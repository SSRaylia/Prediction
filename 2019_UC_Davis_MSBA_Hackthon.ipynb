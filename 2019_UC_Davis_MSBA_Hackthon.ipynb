{
  "nbformat": 4,
  "nbformat_minor": 0,
  "metadata": {
    "colab": {
      "name": "2019 UC Davis MSBA Hackthon.ipynb",
      "version": "0.3.2",
      "provenance": [],
      "collapsed_sections": [],
      "include_colab_link": true
    },
    "language_info": {
      "codemirror_mode": {
        "name": "ipython",
        "version": 3
      },
      "file_extension": ".py",
      "mimetype": "text/x-python",
      "name": "python",
      "nbconvert_exporter": "python",
      "pygments_lexer": "ipython3",
      "version": "3.7.1"
    },
    "kernelspec": {
      "display_name": "Python 3",
      "language": "python",
      "name": "python3"
    }
  },
  "cells": [
    {
      "cell_type": "markdown",
      "metadata": {
        "id": "view-in-github",
        "colab_type": "text"
      },
      "source": [
        "<a href=\"https://colab.research.google.com/github/SSRaylia/Prediction-Using-Machine-Learning/blob/master/2019_UC_Davis_MSBA_Hackthon.ipynb\" target=\"_parent\"><img src=\"https://colab.research.google.com/assets/colab-badge.svg\" alt=\"Open In Colab\"/></a>"
      ]
    },
    {
      "cell_type": "markdown",
      "metadata": {
        "id": "Hst0rMrnWi0_",
        "colab_type": "text"
      },
      "source": [
        " **This is our team project for UC Davis MSBA 2019 Hachthon. We are required to build model to make prediction of a patient's cancer stage, most appropriate surgery, and survival rate.**\n",
        "\n"
      ]
    },
    {
      "cell_type": "markdown",
      "metadata": {
        "id": "Ny6U2SJacVb5",
        "colab_type": "text"
      },
      "source": [
        "# Ingest"
      ]
    },
    {
      "cell_type": "code",
      "metadata": {
        "id": "KsYNEf_QcVb-",
        "colab_type": "code",
        "colab": {}
      },
      "source": [
        "import pandas as pd\n",
        "import numpy as np"
      ],
      "execution_count": 0,
      "outputs": []
    },
    {
      "cell_type": "code",
      "metadata": {
        "id": "zgN8l9dkcVcM",
        "colab_type": "code",
        "outputId": "3b93251b-dacc-4c61-d04d-3337317809fb",
        "colab": {
          "base_uri": "https://localhost:8080/",
          "height": 126
        }
      },
      "source": [
        "from google.colab import drive\n",
        "drive.mount('/content/gdrive')"
      ],
      "execution_count": 0,
      "outputs": [
        {
          "output_type": "stream",
          "text": [
            "Go to this URL in a browser: https://accounts.google.com/o/oauth2/auth?client_id=947318989803-6bn6qk8qdgf4n4g3pfee6491hc0brc4i.apps.googleusercontent.com&redirect_uri=urn%3Aietf%3Awg%3Aoauth%3A2.0%3Aoob&scope=email%20https%3A%2F%2Fwww.googleapis.com%2Fauth%2Fdocs.test%20https%3A%2F%2Fwww.googleapis.com%2Fauth%2Fdrive%20https%3A%2F%2Fwww.googleapis.com%2Fauth%2Fdrive.photos.readonly%20https%3A%2F%2Fwww.googleapis.com%2Fauth%2Fpeopleapi.readonly&response_type=code\n",
            "\n",
            "Enter your authorization code:\n",
            "··········\n",
            "Mounted at /content/gdrive\n"
          ],
          "name": "stdout"
        }
      ]
    },
    {
      "cell_type": "code",
      "metadata": {
        "id": "WQVF7gW9egeR",
        "colab_type": "code",
        "outputId": "c31942a3-37b6-4722-b21b-faf803cd08be",
        "colab": {
          "base_uri": "https://localhost:8080/",
          "height": 72
        }
      },
      "source": [
        "raw = pd.read_csv(\"gdrive/My Drive/Machine Learning/LungCancerDatav5.csv\")"
      ],
      "execution_count": 0,
      "outputs": [
        {
          "output_type": "stream",
          "text": [
            "/usr/local/lib/python3.6/dist-packages/IPython/core/interactiveshell.py:2718: DtypeWarning: Columns (25,26,34) have mixed types. Specify dtype option on import or set low_memory=False.\n",
            "  interactivity=interactivity, compiler=compiler, result=result)\n"
          ],
          "name": "stderr"
        }
      ]
    },
    {
      "cell_type": "markdown",
      "metadata": {
        "id": "jrQcBzJwcVcZ",
        "colab_type": "text"
      },
      "source": [
        "# Data Cleaning"
      ]
    },
    {
      "cell_type": "code",
      "metadata": {
        "id": "xW0nwSiMcVcd",
        "colab_type": "code",
        "colab": {}
      },
      "source": [
        "#get data start from 2004\n",
        "cancerdata = raw[raw[\"Year of diagnosis\"] > 2003]"
      ],
      "execution_count": 0,
      "outputs": []
    },
    {
      "cell_type": "code",
      "metadata": {
        "id": "HoTlUHtmcVco",
        "colab_type": "code",
        "colab": {}
      },
      "source": [
        "#drop unnessary data\n",
        "cancer = cancerdata.drop([\"T value - based on AJCC 3rd (1988-2003)\",\"N value - based on AJCC 3rd (1988-2003)\",\n",
        "                         \"M value - based on AJCC 3rd (1988-2003)\",\"Derived AJCC T, 7th ed (2010+)\",\n",
        "                         \"Derived AJCC N, 7th ed (2010+)\",\"Race/ethnicity\",\"NHIA Derived Hisp Origin\",\n",
        "                         \"Derived AJCC M, 7th ed (2010+)\",\"Regional nodes examined (1988+)\",\n",
        "                         \"Regional nodes positive (1988+)\",\"RX Summ--Surg Prim Site (1998+)\",\n",
        "                         \"Scope of reg lymph nd surg (1998-2002)\",\"RX Summ--Reg LN Examined (1998-2002)\",\n",
        "                         \"Surgery of oth reg/dis sites (1998-2002)\",\n",
        "                         \"Site specific surgery (1973-1997 varying detail by year and site)\",\n",
        "                         \"Radiation to Brain or CNS Recode (1988-1997)\"], axis=1)\n",
        "cancer = cancer[cancer[\"Survival months\"] != \"Unknown\"]"
      ],
      "execution_count": 0,
      "outputs": []
    },
    {
      "cell_type": "code",
      "metadata": {
        "id": "50F5Hxb9cVc0",
        "colab_type": "code",
        "colab": {}
      },
      "source": [
        "#creat status(\"Success\"or \"Failure\")\n",
        "#Only those who a survival months larger than 60 will be marked as \"Success\", those with a survival months less than 60 will not be marked as failure unless the patient \n",
        "#receive treatment more than 5 years ago.\n",
        "cancer[\"Survival months\"] = pd.to_numeric(cancer[\"Survival months\"], downcast='signed')\n",
        "cancer['Status'] = np.where(cancer['Survival months']>=60, \"Success\", \"Failure\")\n",
        "cancer['check'] = cancer['Status'] + cancer['Vital status recode (study cutoff used)']\n",
        "cancer = cancer[cancer[\"check\"] != \"FailureAlive\"]\n",
        "cancer.drop(['check'],axis = 1, inplace = True)"
      ],
      "execution_count": 0,
      "outputs": []
    },
    {
      "cell_type": "code",
      "metadata": {
        "id": "EGJB7djRcVdF",
        "colab_type": "code",
        "outputId": "d74f80d0-4380-4d78-b937-30d0f1bd247b",
        "colab": {
          "base_uri": "https://localhost:8080/",
          "height": 35
        }
      },
      "source": [
        "cancer.shape"
      ],
      "execution_count": 0,
      "outputs": [
        {
          "output_type": "execute_result",
          "data": {
            "text/plain": [
              "(510162, 35)"
            ]
          },
          "metadata": {
            "tags": []
          },
          "execution_count": 15
        }
      ]
    },
    {
      "cell_type": "code",
      "metadata": {
        "id": "67gtq-6fcVdW",
        "colab_type": "code",
        "colab": {}
      },
      "source": [
        "cancer.dropna(inplace=True)\n",
        "#subset=['Derived AJCC T, 6th ed (2004+)', 'Derived AJCC N, 6th ed (2004+)','Derived AJCC M, 6th ed (2004+)'],"
      ],
      "execution_count": 0,
      "outputs": []
    },
    {
      "cell_type": "code",
      "metadata": {
        "id": "cRxeITofcVdi",
        "colab_type": "code",
        "outputId": "2857dec7-d3cc-4516-a4be-f37cf9d8b394",
        "colab": {
          "base_uri": "https://localhost:8080/",
          "height": 35
        }
      },
      "source": [
        "cancer.dropna(inplace=True)\n",
        "cancer.isna().values.any()"
      ],
      "execution_count": 0,
      "outputs": [
        {
          "output_type": "execute_result",
          "data": {
            "text/plain": [
              "False"
            ]
          },
          "metadata": {
            "tags": []
          },
          "execution_count": 17
        }
      ]
    },
    {
      "cell_type": "code",
      "metadata": {
        "id": "oDeCm_9xcVdp",
        "colab_type": "code",
        "outputId": "4dde4da1-3b5b-4e77-c106-bac0dc845b0e",
        "colab": {
          "base_uri": "https://localhost:8080/",
          "height": 35
        }
      },
      "source": [
        "cancer.shape"
      ],
      "execution_count": 0,
      "outputs": [
        {
          "output_type": "execute_result",
          "data": {
            "text/plain": [
              "(504008, 35)"
            ]
          },
          "metadata": {
            "tags": []
          },
          "execution_count": 18
        }
      ]
    },
    {
      "cell_type": "code",
      "metadata": {
        "id": "GG8ZwWWIcVeF",
        "colab_type": "code",
        "colab": {}
      },
      "source": [
        "#Define patient stage according to professional defination. \n",
        "\n",
        "def final_winner(cancer):\n",
        "    if cancer['Derived AJCC M, 6th ed (2004+)']=='MX':\n",
        "        return \"Unable to Identify\"\n",
        "    elif cancer['Derived AJCC M, 6th ed (2004+)']=='M1':\n",
        "        return \"IV\"\n",
        "    elif cancer['Derived AJCC M, 6th ed (2004+)']=='M0'and cancer['Derived AJCC N, 6th ed (2004+)']=='NX':\n",
        "        return \"Unable to Identify\"\n",
        "    elif cancer['Derived AJCC M, 6th ed (2004+)']=='M0'and cancer['Derived AJCC N, 6th ed (2004+)']=='N3':\n",
        "        return \"IIIB\"    \n",
        "    elif cancer['Derived AJCC M, 6th ed (2004+)']=='M0'and cancer['Derived AJCC N, 6th ed (2004+)']=='N2' and cancer['Derived AJCC T, 6th ed (2004+)']=='TX':\n",
        "        return \"Unable to Identify\"        \n",
        "    elif cancer['Derived AJCC M, 6th ed (2004+)']=='M0'and cancer['Derived AJCC N, 6th ed (2004+)']=='N2' and (cancer['Derived AJCC T, 6th ed (2004+)']=='T1' or cancer['Derived AJCC T, 6th ed (2004+)']=='T2'or cancer['Derived AJCC T, 6th ed (2004+)']=='T3'):\n",
        "        return \"IIIA\"      \n",
        "    elif cancer['Derived AJCC M, 6th ed (2004+)']=='M0'and cancer['Derived AJCC N, 6th ed (2004+)']=='N2' and cancer['Derived AJCC T, 6th ed (2004+)']=='T4':\n",
        "        return \"IIIB\"       \n",
        "    elif cancer['Derived AJCC M, 6th ed (2004+)']=='M0'and cancer['Derived AJCC N, 6th ed (2004+)']=='N1' and cancer['Derived AJCC T, 6th ed (2004+)']=='TX':\n",
        "        return \"Unable to Identify\"       \n",
        "    elif cancer['Derived AJCC M, 6th ed (2004+)']=='M0'and cancer['Derived AJCC N, 6th ed (2004+)']=='N1' and (cancer['Derived AJCC T, 6th ed (2004+)']=='T1' or cancer['Derived AJCC T, 6th ed (2004+)']=='T2'):\n",
        "        return \"IIA\"     \n",
        "    elif cancer['Derived AJCC M, 6th ed (2004+)']=='M0'and cancer['Derived AJCC N, 6th ed (2004+)']=='N1' and (cancer['Derived AJCC T, 6th ed (2004+)']=='T3' or cancer['Derived AJCC T, 6th ed (2004+)']=='T4'):\n",
        "        return \"IIIA\"  \n",
        "    elif cancer['Derived AJCC M, 6th ed (2004+)']=='M0'and cancer['Derived AJCC N, 6th ed (2004+)']=='N0' and cancer['Derived AJCC T, 6th ed (2004+)']=='TX':\n",
        "        return \"Unable to Identify\"  \n",
        "    elif cancer['Derived AJCC M, 6th ed (2004+)']=='M0'and cancer['Derived AJCC N, 6th ed (2004+)']=='N0' and cancer['Derived AJCC T, 6th ed (2004+)']=='T1':\n",
        "        return \"IA\"   \n",
        "    elif cancer['Derived AJCC M, 6th ed (2004+)']=='M0'and cancer['Derived AJCC N, 6th ed (2004+)']=='N0' and cancer['Derived AJCC T, 6th ed (2004+)']=='T2':\n",
        "        return \"IB\"     \n",
        "    elif cancer['Derived AJCC M, 6th ed (2004+)']=='M0'and cancer['Derived AJCC N, 6th ed (2004+)']=='N0' and cancer['Derived AJCC T, 6th ed (2004+)']=='T3':\n",
        "        return \"IIB\"      \n",
        "    elif cancer['Derived AJCC M, 6th ed (2004+)']=='M0'and cancer['Derived AJCC N, 6th ed (2004+)']=='N0' and cancer['Derived AJCC T, 6th ed (2004+)']=='T4':\n",
        "        return \"IIIA\"       \n",
        "    else:\n",
        "        return \"NA\"\n",
        "\n",
        "cancer['group_stage'] = cancer.apply(final_winner, axis=1)"
      ],
      "execution_count": 0,
      "outputs": []
    },
    {
      "cell_type": "code",
      "metadata": {
        "id": "mvsmTip0cVeO",
        "colab_type": "code",
        "outputId": "32fbba5a-9d85-4537-f69b-19e12f6fbb97",
        "colab": {
          "base_uri": "https://localhost:8080/",
          "height": 52
        }
      },
      "source": [
        "cancer['group_stage'].unique()"
      ],
      "execution_count": 0,
      "outputs": [
        {
          "output_type": "execute_result",
          "data": {
            "text/plain": [
              "array(['IB', 'IIIA', 'IV', 'IA', 'Unable to Identify', 'IIIB', 'IIA',\n",
              "       'IIB', 'NA'], dtype=object)"
            ]
          },
          "metadata": {
            "tags": []
          },
          "execution_count": 20
        }
      ]
    },
    {
      "cell_type": "code",
      "metadata": {
        "id": "WR6qaGilcVeV",
        "colab_type": "code",
        "outputId": "ab08a997-bf00-446a-f70e-525defbd03ae",
        "colab": {
          "base_uri": "https://localhost:8080/",
          "height": 35
        }
      },
      "source": [
        "cancer.dropna(inplace=True)\n",
        "cancer.isna().values.any()"
      ],
      "execution_count": 0,
      "outputs": [
        {
          "output_type": "execute_result",
          "data": {
            "text/plain": [
              "False"
            ]
          },
          "metadata": {
            "tags": []
          },
          "execution_count": 21
        }
      ]
    },
    {
      "cell_type": "code",
      "metadata": {
        "id": "c0nrJ4AkcVea",
        "colab_type": "code",
        "colab": {}
      },
      "source": [
        "cancer_copy=cancer.copy()"
      ],
      "execution_count": 0,
      "outputs": []
    },
    {
      "cell_type": "markdown",
      "metadata": {
        "id": "ZB5VsbbycVee",
        "colab_type": "text"
      },
      "source": [
        "# EDA"
      ]
    },
    {
      "cell_type": "code",
      "metadata": {
        "id": "d1zNDozNcVef",
        "colab_type": "code",
        "colab": {}
      },
      "source": [
        "test1=pd.DataFrame(cancer.iloc[0:3])"
      ],
      "execution_count": 0,
      "outputs": []
    },
    {
      "cell_type": "code",
      "metadata": {
        "id": "KX1WSdUmcVei",
        "colab_type": "code",
        "outputId": "f49e2631-6fe4-4753-d91b-2714b04d1a12",
        "colab": {
          "base_uri": "https://localhost:8080/",
          "height": 1141
        }
      },
      "source": [
        "test1.transpose()"
      ],
      "execution_count": 0,
      "outputs": [
        {
          "output_type": "execute_result",
          "data": {
            "text/html": [
              "<div>\n",
              "<style scoped>\n",
              "    .dataframe tbody tr th:only-of-type {\n",
              "        vertical-align: middle;\n",
              "    }\n",
              "\n",
              "    .dataframe tbody tr th {\n",
              "        vertical-align: top;\n",
              "    }\n",
              "\n",
              "    .dataframe thead th {\n",
              "        text-align: right;\n",
              "    }\n",
              "</style>\n",
              "<table border=\"1\" class=\"dataframe\">\n",
              "  <thead>\n",
              "    <tr style=\"text-align: right;\">\n",
              "      <th></th>\n",
              "      <th>15</th>\n",
              "      <th>27</th>\n",
              "      <th>34</th>\n",
              "    </tr>\n",
              "  </thead>\n",
              "  <tbody>\n",
              "    <tr>\n",
              "      <th>Patient ID</th>\n",
              "      <td>333</td>\n",
              "      <td>532</td>\n",
              "      <td>646</td>\n",
              "    </tr>\n",
              "    <tr>\n",
              "      <th>Age recode with &lt;1 year olds</th>\n",
              "      <td>75-79 years</td>\n",
              "      <td>75-79 years</td>\n",
              "      <td>70-74 years</td>\n",
              "    </tr>\n",
              "    <tr>\n",
              "      <th>Age at diagnosis</th>\n",
              "      <td>78</td>\n",
              "      <td>78</td>\n",
              "      <td>73</td>\n",
              "    </tr>\n",
              "    <tr>\n",
              "      <th>Year of birth</th>\n",
              "      <td>1928</td>\n",
              "      <td>1928</td>\n",
              "      <td>1933</td>\n",
              "    </tr>\n",
              "    <tr>\n",
              "      <th>Year of diagnosis</th>\n",
              "      <td>2006</td>\n",
              "      <td>2006</td>\n",
              "      <td>2007</td>\n",
              "    </tr>\n",
              "    <tr>\n",
              "      <th>Sex</th>\n",
              "      <td>Female</td>\n",
              "      <td>Male</td>\n",
              "      <td>Female</td>\n",
              "    </tr>\n",
              "    <tr>\n",
              "      <th>Race recode (W, B, AI, API)</th>\n",
              "      <td>White</td>\n",
              "      <td>White</td>\n",
              "      <td>White</td>\n",
              "    </tr>\n",
              "    <tr>\n",
              "      <th>Origin recode NHIA (Hispanic, Non-Hisp)</th>\n",
              "      <td>Non-Spanish-Hispanic-Latino</td>\n",
              "      <td>Non-Spanish-Hispanic-Latino</td>\n",
              "      <td>Non-Spanish-Hispanic-Latino</td>\n",
              "    </tr>\n",
              "    <tr>\n",
              "      <th>State-county</th>\n",
              "      <td>CA: Contra Costa County (06013)</td>\n",
              "      <td>CA: Alameda County (06001)</td>\n",
              "      <td>CA: Contra Costa County (06013)</td>\n",
              "    </tr>\n",
              "    <tr>\n",
              "      <th>Grade</th>\n",
              "      <td>Well differentiated; Grade I</td>\n",
              "      <td>Poorly differentiated; Grade III</td>\n",
              "      <td>Unknown</td>\n",
              "    </tr>\n",
              "    <tr>\n",
              "      <th>Laterality</th>\n",
              "      <td>Left - origin of primary</td>\n",
              "      <td>Left - origin of primary</td>\n",
              "      <td>Right - origin of primary</td>\n",
              "    </tr>\n",
              "    <tr>\n",
              "      <th>Derived AJCC T, 6th ed (2004+)</th>\n",
              "      <td>T2</td>\n",
              "      <td>T2</td>\n",
              "      <td>T4</td>\n",
              "    </tr>\n",
              "    <tr>\n",
              "      <th>Derived AJCC N, 6th ed (2004+)</th>\n",
              "      <td>N0</td>\n",
              "      <td>N0</td>\n",
              "      <td>N0</td>\n",
              "    </tr>\n",
              "    <tr>\n",
              "      <th>Derived AJCC M, 6th ed (2004+)</th>\n",
              "      <td>M0</td>\n",
              "      <td>M0</td>\n",
              "      <td>M0</td>\n",
              "    </tr>\n",
              "    <tr>\n",
              "      <th>CS Tumor Size/Ext Eval (2004+)</th>\n",
              "      <td>3</td>\n",
              "      <td>3</td>\n",
              "      <td>1</td>\n",
              "    </tr>\n",
              "    <tr>\n",
              "      <th>CS Reg Node Eval (2004+)</th>\n",
              "      <td>3</td>\n",
              "      <td>3</td>\n",
              "      <td>0</td>\n",
              "    </tr>\n",
              "    <tr>\n",
              "      <th>CS Mets Eval (2004+)</th>\n",
              "      <td>0</td>\n",
              "      <td>0</td>\n",
              "      <td>0</td>\n",
              "    </tr>\n",
              "    <tr>\n",
              "      <th>CS mets at DX-bone (2010+)</th>\n",
              "      <td>Blank(s)</td>\n",
              "      <td>Blank(s)</td>\n",
              "      <td>Blank(s)</td>\n",
              "    </tr>\n",
              "    <tr>\n",
              "      <th>CS mets at DX-brain (2010+)</th>\n",
              "      <td>Blank(s)</td>\n",
              "      <td>Blank(s)</td>\n",
              "      <td>Blank(s)</td>\n",
              "    </tr>\n",
              "    <tr>\n",
              "      <th>CS mets at DX-liver (2010+)</th>\n",
              "      <td>Blank(s)</td>\n",
              "      <td>Blank(s)</td>\n",
              "      <td>Blank(s)</td>\n",
              "    </tr>\n",
              "    <tr>\n",
              "      <th>CS mets at DX-lung (2010+)</th>\n",
              "      <td>Blank(s)</td>\n",
              "      <td>Blank(s)</td>\n",
              "      <td>Blank(s)</td>\n",
              "    </tr>\n",
              "    <tr>\n",
              "      <th>CS version input current (2004+)</th>\n",
              "      <td>020510</td>\n",
              "      <td>020510</td>\n",
              "      <td>020510</td>\n",
              "    </tr>\n",
              "    <tr>\n",
              "      <th>CS version input original (2004+)</th>\n",
              "      <td>010300</td>\n",
              "      <td>010300</td>\n",
              "      <td>010300</td>\n",
              "    </tr>\n",
              "    <tr>\n",
              "      <th>CS version derived (2004+)</th>\n",
              "      <td>020550</td>\n",
              "      <td>020550</td>\n",
              "      <td>020550</td>\n",
              "    </tr>\n",
              "    <tr>\n",
              "      <th>RX Summ--Scope Reg LN Sur (2003+)</th>\n",
              "      <td>4 or more regional lymph nodes removed</td>\n",
              "      <td>4 or more regional lymph nodes removed</td>\n",
              "      <td>None</td>\n",
              "    </tr>\n",
              "    <tr>\n",
              "      <th>RX Summ--Surg Oth Reg/Dis (2003+)</th>\n",
              "      <td>None; diagnosed at autopsy</td>\n",
              "      <td>None; diagnosed at autopsy</td>\n",
              "      <td>None; diagnosed at autopsy</td>\n",
              "    </tr>\n",
              "    <tr>\n",
              "      <th>Radiation sequence with surgery</th>\n",
              "      <td>No radiation and/or cancer-directed surgery</td>\n",
              "      <td>No radiation and/or cancer-directed surgery</td>\n",
              "      <td>No radiation and/or cancer-directed surgery</td>\n",
              "    </tr>\n",
              "    <tr>\n",
              "      <th>Reason no cancer-directed surgery</th>\n",
              "      <td>Surgery performed</td>\n",
              "      <td>Surgery performed</td>\n",
              "      <td>Not recommended</td>\n",
              "    </tr>\n",
              "    <tr>\n",
              "      <th>Radiation recode</th>\n",
              "      <td>None/Unknown</td>\n",
              "      <td>None/Unknown</td>\n",
              "      <td>None/Unknown</td>\n",
              "    </tr>\n",
              "    <tr>\n",
              "      <th>Chemotherapy recode (yes, no/unk)</th>\n",
              "      <td>No/Unknown</td>\n",
              "      <td>No/Unknown</td>\n",
              "      <td>No/Unknown</td>\n",
              "    </tr>\n",
              "    <tr>\n",
              "      <th>Survival months</th>\n",
              "      <td>109</td>\n",
              "      <td>5</td>\n",
              "      <td>0</td>\n",
              "    </tr>\n",
              "    <tr>\n",
              "      <th>Survival months flag</th>\n",
              "      <td>Complete dates are available and there are mor...</td>\n",
              "      <td>Complete dates are available and there are mor...</td>\n",
              "      <td>Complete dates are available and there are mor...</td>\n",
              "    </tr>\n",
              "    <tr>\n",
              "      <th>COD to site rec KM</th>\n",
              "      <td>Alive</td>\n",
              "      <td>Other Infectious and Parasitic Diseases includ...</td>\n",
              "      <td>Chronic Obstructive Pulmonary Disease and Alli...</td>\n",
              "    </tr>\n",
              "    <tr>\n",
              "      <th>Vital status recode (study cutoff used)</th>\n",
              "      <td>Alive</td>\n",
              "      <td>Dead</td>\n",
              "      <td>Dead</td>\n",
              "    </tr>\n",
              "    <tr>\n",
              "      <th>Status</th>\n",
              "      <td>Success</td>\n",
              "      <td>Failure</td>\n",
              "      <td>Failure</td>\n",
              "    </tr>\n",
              "    <tr>\n",
              "      <th>group_stage</th>\n",
              "      <td>IB</td>\n",
              "      <td>IB</td>\n",
              "      <td>IIIA</td>\n",
              "    </tr>\n",
              "  </tbody>\n",
              "</table>\n",
              "</div>"
            ],
            "text/plain": [
              "                                                                                        15  \\\n",
              "Patient ID                                                                             333   \n",
              "Age recode with <1 year olds                                                   75-79 years   \n",
              "Age at diagnosis                                                                        78   \n",
              "Year of birth                                                                         1928   \n",
              "Year of diagnosis                                                                     2006   \n",
              "Sex                                                                                 Female   \n",
              "Race recode (W, B, AI, API)                                                          White   \n",
              "Origin recode NHIA (Hispanic, Non-Hisp)                        Non-Spanish-Hispanic-Latino   \n",
              "State-county                                               CA: Contra Costa County (06013)   \n",
              "Grade                                                         Well differentiated; Grade I   \n",
              "Laterality                                                        Left - origin of primary   \n",
              "Derived AJCC T, 6th ed (2004+)                                                          T2   \n",
              "Derived AJCC N, 6th ed (2004+)                                                          N0   \n",
              "Derived AJCC M, 6th ed (2004+)                                                          M0   \n",
              "CS Tumor Size/Ext Eval (2004+)                                                           3   \n",
              "CS Reg Node Eval (2004+)                                                                 3   \n",
              "CS Mets Eval (2004+)                                                                     0   \n",
              "CS mets at DX-bone (2010+)                                                        Blank(s)   \n",
              "CS mets at DX-brain (2010+)                                                       Blank(s)   \n",
              "CS mets at DX-liver (2010+)                                                       Blank(s)   \n",
              "CS mets at DX-lung (2010+)                                                        Blank(s)   \n",
              "CS version input current (2004+)                                                    020510   \n",
              "CS version input original (2004+)                                                   010300   \n",
              "CS version derived (2004+)                                                          020550   \n",
              "RX Summ--Scope Reg LN Sur (2003+)                   4 or more regional lymph nodes removed   \n",
              "RX Summ--Surg Oth Reg/Dis (2003+)                               None; diagnosed at autopsy   \n",
              "Radiation sequence with surgery                No radiation and/or cancer-directed surgery   \n",
              "Reason no cancer-directed surgery                                        Surgery performed   \n",
              "Radiation recode                                                              None/Unknown   \n",
              "Chemotherapy recode (yes, no/unk)                                               No/Unknown   \n",
              "Survival months                                                                        109   \n",
              "Survival months flag                     Complete dates are available and there are mor...   \n",
              "COD to site rec KM                                                                   Alive   \n",
              "Vital status recode (study cutoff used)                                              Alive   \n",
              "Status                                                                             Success   \n",
              "group_stage                                                                             IB   \n",
              "\n",
              "                                                                                        27  \\\n",
              "Patient ID                                                                             532   \n",
              "Age recode with <1 year olds                                                   75-79 years   \n",
              "Age at diagnosis                                                                        78   \n",
              "Year of birth                                                                         1928   \n",
              "Year of diagnosis                                                                     2006   \n",
              "Sex                                                                                   Male   \n",
              "Race recode (W, B, AI, API)                                                          White   \n",
              "Origin recode NHIA (Hispanic, Non-Hisp)                        Non-Spanish-Hispanic-Latino   \n",
              "State-county                                                    CA: Alameda County (06001)   \n",
              "Grade                                                     Poorly differentiated; Grade III   \n",
              "Laterality                                                        Left - origin of primary   \n",
              "Derived AJCC T, 6th ed (2004+)                                                          T2   \n",
              "Derived AJCC N, 6th ed (2004+)                                                          N0   \n",
              "Derived AJCC M, 6th ed (2004+)                                                          M0   \n",
              "CS Tumor Size/Ext Eval (2004+)                                                           3   \n",
              "CS Reg Node Eval (2004+)                                                                 3   \n",
              "CS Mets Eval (2004+)                                                                     0   \n",
              "CS mets at DX-bone (2010+)                                                        Blank(s)   \n",
              "CS mets at DX-brain (2010+)                                                       Blank(s)   \n",
              "CS mets at DX-liver (2010+)                                                       Blank(s)   \n",
              "CS mets at DX-lung (2010+)                                                        Blank(s)   \n",
              "CS version input current (2004+)                                                    020510   \n",
              "CS version input original (2004+)                                                   010300   \n",
              "CS version derived (2004+)                                                          020550   \n",
              "RX Summ--Scope Reg LN Sur (2003+)                   4 or more regional lymph nodes removed   \n",
              "RX Summ--Surg Oth Reg/Dis (2003+)                               None; diagnosed at autopsy   \n",
              "Radiation sequence with surgery                No radiation and/or cancer-directed surgery   \n",
              "Reason no cancer-directed surgery                                        Surgery performed   \n",
              "Radiation recode                                                              None/Unknown   \n",
              "Chemotherapy recode (yes, no/unk)                                               No/Unknown   \n",
              "Survival months                                                                          5   \n",
              "Survival months flag                     Complete dates are available and there are mor...   \n",
              "COD to site rec KM                       Other Infectious and Parasitic Diseases includ...   \n",
              "Vital status recode (study cutoff used)                                               Dead   \n",
              "Status                                                                             Failure   \n",
              "group_stage                                                                             IB   \n",
              "\n",
              "                                                                                        34  \n",
              "Patient ID                                                                             646  \n",
              "Age recode with <1 year olds                                                   70-74 years  \n",
              "Age at diagnosis                                                                        73  \n",
              "Year of birth                                                                         1933  \n",
              "Year of diagnosis                                                                     2007  \n",
              "Sex                                                                                 Female  \n",
              "Race recode (W, B, AI, API)                                                          White  \n",
              "Origin recode NHIA (Hispanic, Non-Hisp)                        Non-Spanish-Hispanic-Latino  \n",
              "State-county                                               CA: Contra Costa County (06013)  \n",
              "Grade                                                                              Unknown  \n",
              "Laterality                                                       Right - origin of primary  \n",
              "Derived AJCC T, 6th ed (2004+)                                                          T4  \n",
              "Derived AJCC N, 6th ed (2004+)                                                          N0  \n",
              "Derived AJCC M, 6th ed (2004+)                                                          M0  \n",
              "CS Tumor Size/Ext Eval (2004+)                                                           1  \n",
              "CS Reg Node Eval (2004+)                                                                 0  \n",
              "CS Mets Eval (2004+)                                                                     0  \n",
              "CS mets at DX-bone (2010+)                                                        Blank(s)  \n",
              "CS mets at DX-brain (2010+)                                                       Blank(s)  \n",
              "CS mets at DX-liver (2010+)                                                       Blank(s)  \n",
              "CS mets at DX-lung (2010+)                                                        Blank(s)  \n",
              "CS version input current (2004+)                                                    020510  \n",
              "CS version input original (2004+)                                                   010300  \n",
              "CS version derived (2004+)                                                          020550  \n",
              "RX Summ--Scope Reg LN Sur (2003+)                                                     None  \n",
              "RX Summ--Surg Oth Reg/Dis (2003+)                               None; diagnosed at autopsy  \n",
              "Radiation sequence with surgery                No radiation and/or cancer-directed surgery  \n",
              "Reason no cancer-directed surgery                                          Not recommended  \n",
              "Radiation recode                                                              None/Unknown  \n",
              "Chemotherapy recode (yes, no/unk)                                               No/Unknown  \n",
              "Survival months                                                                          0  \n",
              "Survival months flag                     Complete dates are available and there are mor...  \n",
              "COD to site rec KM                       Chronic Obstructive Pulmonary Disease and Alli...  \n",
              "Vital status recode (study cutoff used)                                               Dead  \n",
              "Status                                                                             Failure  \n",
              "group_stage                                                                           IIIA  "
            ]
          },
          "metadata": {
            "tags": []
          },
          "execution_count": 24
        }
      ]
    },
    {
      "cell_type": "markdown",
      "metadata": {
        "id": "6Tgj6r54cVeq",
        "colab_type": "text"
      },
      "source": [
        "# Model"
      ]
    },
    {
      "cell_type": "code",
      "metadata": {
        "id": "40MDdu_5cVex",
        "colab_type": "code",
        "colab": {}
      },
      "source": [
        "cancer_model=cancer_copy[['Age at diagnosis','Year of diagnosis','Sex','Race recode (W, B, AI, API)','group_stage',\n",
        "                          'CS Reg Node Eval (2004+)',\n",
        "                          'CS Mets Eval (2004+)','RX Summ--Scope Reg LN Sur (2003+)',\n",
        "                          'RX Summ--Surg Oth Reg/Dis (2003+)', 'Radiation sequence with surgery',\n",
        "                          'Radiation recode','Chemotherapy recode (yes, no/unk)', 'Survival months']]"
      ],
      "execution_count": 0,
      "outputs": []
    },
    {
      "cell_type": "code",
      "metadata": {
        "id": "TM3f-fh_cVe1",
        "colab_type": "code",
        "outputId": "358aa622-f7ca-4f53-8d8e-c80c479ec49f",
        "colab": {
          "base_uri": "https://localhost:8080/",
          "height": 275
        }
      },
      "source": [
        "cancer_model.head(3)"
      ],
      "execution_count": 0,
      "outputs": [
        {
          "output_type": "execute_result",
          "data": {
            "text/html": [
              "<div>\n",
              "<style scoped>\n",
              "    .dataframe tbody tr th:only-of-type {\n",
              "        vertical-align: middle;\n",
              "    }\n",
              "\n",
              "    .dataframe tbody tr th {\n",
              "        vertical-align: top;\n",
              "    }\n",
              "\n",
              "    .dataframe thead th {\n",
              "        text-align: right;\n",
              "    }\n",
              "</style>\n",
              "<table border=\"1\" class=\"dataframe\">\n",
              "  <thead>\n",
              "    <tr style=\"text-align: right;\">\n",
              "      <th></th>\n",
              "      <th>Age at diagnosis</th>\n",
              "      <th>Year of diagnosis</th>\n",
              "      <th>Sex</th>\n",
              "      <th>Race recode (W, B, AI, API)</th>\n",
              "      <th>group_stage</th>\n",
              "      <th>CS Reg Node Eval (2004+)</th>\n",
              "      <th>CS Mets Eval (2004+)</th>\n",
              "      <th>RX Summ--Scope Reg LN Sur (2003+)</th>\n",
              "      <th>RX Summ--Surg Oth Reg/Dis (2003+)</th>\n",
              "      <th>Radiation sequence with surgery</th>\n",
              "      <th>Radiation recode</th>\n",
              "      <th>Chemotherapy recode (yes, no/unk)</th>\n",
              "      <th>Survival months</th>\n",
              "    </tr>\n",
              "  </thead>\n",
              "  <tbody>\n",
              "    <tr>\n",
              "      <th>15</th>\n",
              "      <td>78</td>\n",
              "      <td>2006</td>\n",
              "      <td>Female</td>\n",
              "      <td>White</td>\n",
              "      <td>IB</td>\n",
              "      <td>3</td>\n",
              "      <td>0</td>\n",
              "      <td>4 or more regional lymph nodes removed</td>\n",
              "      <td>None; diagnosed at autopsy</td>\n",
              "      <td>No radiation and/or cancer-directed surgery</td>\n",
              "      <td>None/Unknown</td>\n",
              "      <td>No/Unknown</td>\n",
              "      <td>109</td>\n",
              "    </tr>\n",
              "    <tr>\n",
              "      <th>27</th>\n",
              "      <td>78</td>\n",
              "      <td>2006</td>\n",
              "      <td>Male</td>\n",
              "      <td>White</td>\n",
              "      <td>IB</td>\n",
              "      <td>3</td>\n",
              "      <td>0</td>\n",
              "      <td>4 or more regional lymph nodes removed</td>\n",
              "      <td>None; diagnosed at autopsy</td>\n",
              "      <td>No radiation and/or cancer-directed surgery</td>\n",
              "      <td>None/Unknown</td>\n",
              "      <td>No/Unknown</td>\n",
              "      <td>5</td>\n",
              "    </tr>\n",
              "    <tr>\n",
              "      <th>34</th>\n",
              "      <td>73</td>\n",
              "      <td>2007</td>\n",
              "      <td>Female</td>\n",
              "      <td>White</td>\n",
              "      <td>IIIA</td>\n",
              "      <td>0</td>\n",
              "      <td>0</td>\n",
              "      <td>None</td>\n",
              "      <td>None; diagnosed at autopsy</td>\n",
              "      <td>No radiation and/or cancer-directed surgery</td>\n",
              "      <td>None/Unknown</td>\n",
              "      <td>No/Unknown</td>\n",
              "      <td>0</td>\n",
              "    </tr>\n",
              "  </tbody>\n",
              "</table>\n",
              "</div>"
            ],
            "text/plain": [
              "    Age at diagnosis  Year of diagnosis     Sex Race recode (W, B, AI, API)  \\\n",
              "15                78               2006  Female                       White   \n",
              "27                78               2006    Male                       White   \n",
              "34                73               2007  Female                       White   \n",
              "\n",
              "   group_stage CS Reg Node Eval (2004+) CS Mets Eval (2004+)  \\\n",
              "15          IB                        3                    0   \n",
              "27          IB                        3                    0   \n",
              "34        IIIA                        0                    0   \n",
              "\n",
              "         RX Summ--Scope Reg LN Sur (2003+) RX Summ--Surg Oth Reg/Dis (2003+)  \\\n",
              "15  4 or more regional lymph nodes removed        None; diagnosed at autopsy   \n",
              "27  4 or more regional lymph nodes removed        None; diagnosed at autopsy   \n",
              "34                                    None        None; diagnosed at autopsy   \n",
              "\n",
              "                Radiation sequence with surgery Radiation recode  \\\n",
              "15  No radiation and/or cancer-directed surgery     None/Unknown   \n",
              "27  No radiation and/or cancer-directed surgery     None/Unknown   \n",
              "34  No radiation and/or cancer-directed surgery     None/Unknown   \n",
              "\n",
              "   Chemotherapy recode (yes, no/unk)  Survival months  \n",
              "15                        No/Unknown              109  \n",
              "27                        No/Unknown                5  \n",
              "34                        No/Unknown                0  "
            ]
          },
          "metadata": {
            "tags": []
          },
          "execution_count": 27
        }
      ]
    },
    {
      "cell_type": "code",
      "metadata": {
        "id": "EvCZ3pKscVe5",
        "colab_type": "code",
        "colab": {}
      },
      "source": [
        "mapping = {'Female': 0, 'Male': 1 }\n",
        "cancer_model=cancer_model.replace({'Sex': mapping})\n",
        "cancer_model[\"Sex\"] = pd.to_numeric(cancer_model[\"Sex\"])"
      ],
      "execution_count": 0,
      "outputs": []
    },
    {
      "cell_type": "code",
      "metadata": {
        "id": "PQBD8j8FcVe8",
        "colab_type": "code",
        "colab": {}
      },
      "source": [
        "mapping = {'White': 1, 'Black': 2,'American Indian/Alaska Native':3,'Asian or Pacific Islander':4, 'Unknown':0 }\n",
        "cancer_model=cancer_model.replace({'Race recode (W, B, AI, API)': mapping})\n",
        "cancer_model[\"Race recode (W, B, AI, API)\"] = pd.to_numeric(cancer_model[\"Race recode (W, B, AI, API)\"])"
      ],
      "execution_count": 0,
      "outputs": []
    },
    {
      "cell_type": "code",
      "metadata": {
        "id": "cCAKkn8bcVfD",
        "colab_type": "code",
        "colab": {}
      },
      "source": [
        "mapping = {'IA': 1, 'IB': 2,'IIA':3,'IIB':4, 'IIIA':5, 'IIIB':6, 'IV':7, 'Unable to Identify':0,'NA':0 }\n",
        "cancer_model=cancer_model.replace({'group_stage': mapping})\n",
        "cancer_model[\"group_stage\"] = pd.to_numeric(cancer_model[\"group_stage\"])"
      ],
      "execution_count": 0,
      "outputs": []
    },
    {
      "cell_type": "code",
      "metadata": {
        "id": "HguTkRZ-cVfG",
        "colab_type": "code",
        "colab": {}
      },
      "source": [
        "cancer_model = cancer_model[cancer_model['CS Reg Node Eval (2004+)'] != \"Blank(s)\"]\n",
        "cancer_model = cancer_model[cancer_model['CS Mets Eval (2004+)'] != \"Blank(s)\"]"
      ],
      "execution_count": 0,
      "outputs": []
    },
    {
      "cell_type": "code",
      "metadata": {
        "id": "bf0DPPvccVfI",
        "colab_type": "code",
        "outputId": "0be87c32-7d98-462b-901a-29f3a6227cad",
        "colab": {
          "base_uri": "https://localhost:8080/",
          "height": 35
        }
      },
      "source": [
        "cancer_model.dropna(inplace=True)\n",
        "cancer.isna().values.any()"
      ],
      "execution_count": 0,
      "outputs": [
        {
          "output_type": "execute_result",
          "data": {
            "text/plain": [
              "False"
            ]
          },
          "metadata": {
            "tags": []
          },
          "execution_count": 32
        }
      ]
    },
    {
      "cell_type": "code",
      "metadata": {
        "id": "GMkeV7bLcVfM",
        "colab_type": "code",
        "outputId": "a53827e7-272b-4769-d65c-9edf1c808c36",
        "colab": {
          "base_uri": "https://localhost:8080/",
          "height": 404
        }
      },
      "source": [
        "cancer_model.head()"
      ],
      "execution_count": 0,
      "outputs": [
        {
          "output_type": "execute_result",
          "data": {
            "text/html": [
              "<div>\n",
              "<style scoped>\n",
              "    .dataframe tbody tr th:only-of-type {\n",
              "        vertical-align: middle;\n",
              "    }\n",
              "\n",
              "    .dataframe tbody tr th {\n",
              "        vertical-align: top;\n",
              "    }\n",
              "\n",
              "    .dataframe thead th {\n",
              "        text-align: right;\n",
              "    }\n",
              "</style>\n",
              "<table border=\"1\" class=\"dataframe\">\n",
              "  <thead>\n",
              "    <tr style=\"text-align: right;\">\n",
              "      <th></th>\n",
              "      <th>Age at diagnosis</th>\n",
              "      <th>Year of diagnosis</th>\n",
              "      <th>Sex</th>\n",
              "      <th>Race recode (W, B, AI, API)</th>\n",
              "      <th>group_stage</th>\n",
              "      <th>CS Reg Node Eval (2004+)</th>\n",
              "      <th>CS Mets Eval (2004+)</th>\n",
              "      <th>RX Summ--Scope Reg LN Sur (2003+)</th>\n",
              "      <th>RX Summ--Surg Oth Reg/Dis (2003+)</th>\n",
              "      <th>Radiation sequence with surgery</th>\n",
              "      <th>Radiation recode</th>\n",
              "      <th>Chemotherapy recode (yes, no/unk)</th>\n",
              "      <th>Survival months</th>\n",
              "    </tr>\n",
              "  </thead>\n",
              "  <tbody>\n",
              "    <tr>\n",
              "      <th>15</th>\n",
              "      <td>78</td>\n",
              "      <td>2006</td>\n",
              "      <td>0</td>\n",
              "      <td>1</td>\n",
              "      <td>2</td>\n",
              "      <td>3</td>\n",
              "      <td>0</td>\n",
              "      <td>4 or more regional lymph nodes removed</td>\n",
              "      <td>None; diagnosed at autopsy</td>\n",
              "      <td>No radiation and/or cancer-directed surgery</td>\n",
              "      <td>None/Unknown</td>\n",
              "      <td>No/Unknown</td>\n",
              "      <td>109</td>\n",
              "    </tr>\n",
              "    <tr>\n",
              "      <th>27</th>\n",
              "      <td>78</td>\n",
              "      <td>2006</td>\n",
              "      <td>1</td>\n",
              "      <td>1</td>\n",
              "      <td>2</td>\n",
              "      <td>3</td>\n",
              "      <td>0</td>\n",
              "      <td>4 or more regional lymph nodes removed</td>\n",
              "      <td>None; diagnosed at autopsy</td>\n",
              "      <td>No radiation and/or cancer-directed surgery</td>\n",
              "      <td>None/Unknown</td>\n",
              "      <td>No/Unknown</td>\n",
              "      <td>5</td>\n",
              "    </tr>\n",
              "    <tr>\n",
              "      <th>34</th>\n",
              "      <td>73</td>\n",
              "      <td>2007</td>\n",
              "      <td>0</td>\n",
              "      <td>1</td>\n",
              "      <td>5</td>\n",
              "      <td>0</td>\n",
              "      <td>0</td>\n",
              "      <td>None</td>\n",
              "      <td>None; diagnosed at autopsy</td>\n",
              "      <td>No radiation and/or cancer-directed surgery</td>\n",
              "      <td>None/Unknown</td>\n",
              "      <td>No/Unknown</td>\n",
              "      <td>0</td>\n",
              "    </tr>\n",
              "    <tr>\n",
              "      <th>39</th>\n",
              "      <td>76</td>\n",
              "      <td>2011</td>\n",
              "      <td>0</td>\n",
              "      <td>1</td>\n",
              "      <td>7</td>\n",
              "      <td>0</td>\n",
              "      <td>0</td>\n",
              "      <td>None</td>\n",
              "      <td>None; diagnosed at autopsy</td>\n",
              "      <td>No radiation and/or cancer-directed surgery</td>\n",
              "      <td>None/Unknown</td>\n",
              "      <td>No/Unknown</td>\n",
              "      <td>3</td>\n",
              "    </tr>\n",
              "    <tr>\n",
              "      <th>42</th>\n",
              "      <td>79</td>\n",
              "      <td>2009</td>\n",
              "      <td>0</td>\n",
              "      <td>1</td>\n",
              "      <td>1</td>\n",
              "      <td>0</td>\n",
              "      <td>0</td>\n",
              "      <td>None</td>\n",
              "      <td>None; diagnosed at autopsy</td>\n",
              "      <td>No radiation and/or cancer-directed surgery</td>\n",
              "      <td>Radiation, NOS  method or source not specified</td>\n",
              "      <td>No/Unknown</td>\n",
              "      <td>68</td>\n",
              "    </tr>\n",
              "  </tbody>\n",
              "</table>\n",
              "</div>"
            ],
            "text/plain": [
              "    Age at diagnosis  Year of diagnosis  Sex  Race recode (W, B, AI, API)  \\\n",
              "15                78               2006    0                            1   \n",
              "27                78               2006    1                            1   \n",
              "34                73               2007    0                            1   \n",
              "39                76               2011    0                            1   \n",
              "42                79               2009    0                            1   \n",
              "\n",
              "    group_stage CS Reg Node Eval (2004+) CS Mets Eval (2004+)  \\\n",
              "15            2                        3                    0   \n",
              "27            2                        3                    0   \n",
              "34            5                        0                    0   \n",
              "39            7                        0                    0   \n",
              "42            1                        0                    0   \n",
              "\n",
              "         RX Summ--Scope Reg LN Sur (2003+) RX Summ--Surg Oth Reg/Dis (2003+)  \\\n",
              "15  4 or more regional lymph nodes removed        None; diagnosed at autopsy   \n",
              "27  4 or more regional lymph nodes removed        None; diagnosed at autopsy   \n",
              "34                                    None        None; diagnosed at autopsy   \n",
              "39                                    None        None; diagnosed at autopsy   \n",
              "42                                    None        None; diagnosed at autopsy   \n",
              "\n",
              "                Radiation sequence with surgery  \\\n",
              "15  No radiation and/or cancer-directed surgery   \n",
              "27  No radiation and/or cancer-directed surgery   \n",
              "34  No radiation and/or cancer-directed surgery   \n",
              "39  No radiation and/or cancer-directed surgery   \n",
              "42  No radiation and/or cancer-directed surgery   \n",
              "\n",
              "                                  Radiation recode  \\\n",
              "15                                    None/Unknown   \n",
              "27                                    None/Unknown   \n",
              "34                                    None/Unknown   \n",
              "39                                    None/Unknown   \n",
              "42  Radiation, NOS  method or source not specified   \n",
              "\n",
              "   Chemotherapy recode (yes, no/unk)  Survival months  \n",
              "15                        No/Unknown              109  \n",
              "27                        No/Unknown                5  \n",
              "34                        No/Unknown                0  \n",
              "39                        No/Unknown                3  \n",
              "42                        No/Unknown               68  "
            ]
          },
          "metadata": {
            "tags": []
          },
          "execution_count": 33
        }
      ]
    },
    {
      "cell_type": "markdown",
      "metadata": {
        "id": "CfJ3FBf7cVfP",
        "colab_type": "text"
      },
      "source": [
        "## MODELING"
      ]
    },
    {
      "cell_type": "code",
      "metadata": {
        "id": "FTkuUO1OcVfQ",
        "colab_type": "code",
        "colab": {}
      },
      "source": [
        "from sklearn.neighbors import KNeighborsClassifier\n",
        "from sklearn.metrics import classification_report\n",
        "from sklearn.model_selection import train_test_split"
      ],
      "execution_count": 0,
      "outputs": []
    },
    {
      "cell_type": "code",
      "metadata": {
        "id": "T2c4Kot3cVfW",
        "colab_type": "code",
        "colab": {}
      },
      "source": [
        "########\n",
        "y = cancer_model['RX Summ--Scope Reg LN Sur (2003+)'].values #Target\n",
        "# y = y.reshape(-1, 1)\n",
        "X = cancer_model.drop(['RX Summ--Scope Reg LN Sur (2003+)','RX Summ--Surg Oth Reg/Dis (2003+)', 'Radiation sequence with surgery',\n",
        "       'Radiation recode', 'Chemotherapy recode (yes, no/unk)',\n",
        "       'Survival months'], axis=1).values #Feature(s)\n",
        "\n",
        "X_train, X_test, y_train, y_test = train_test_split(X, y, test_size =0.2, random_state=1)\n"
      ],
      "execution_count": 0,
      "outputs": []
    },
    {
      "cell_type": "code",
      "metadata": {
        "id": "2ebOis6DcVfa",
        "colab_type": "code",
        "outputId": "e5e2d935-5dea-4f34-a56a-868cacea6940",
        "colab": {}
      },
      "source": [
        "X_train"
      ],
      "execution_count": 0,
      "outputs": [
        {
          "output_type": "execute_result",
          "data": {
            "text/plain": [
              "array([[71, 2014, 1, ..., 7, '0', '0'],\n",
              "       [64, 2004, 1, ..., 0, '9', '9'],\n",
              "       [85, 2014, 0, ..., 7, '1', '0'],\n",
              "       ...,\n",
              "       [65, 2009, 0, ..., 0, '9', '9'],\n",
              "       [80, 2009, 0, ..., 0, '0', '0'],\n",
              "       [70, 2013, 0, ..., 7, '0', '3']], dtype=object)"
            ]
          },
          "metadata": {
            "tags": []
          },
          "execution_count": 288
        }
      ]
    },
    {
      "cell_type": "code",
      "metadata": {
        "id": "3y6hgvjAcVff",
        "colab_type": "code",
        "outputId": "1da3ec63-d166-4f05-e355-913fe3c097f8",
        "colab": {}
      },
      "source": [
        "neigh = KNeighborsClassifier(n_neighbors=3)\n",
        "neigh.fit(X_train, y_train) \n",
        "pred_neigh = neigh.predict(X_test)"
      ],
      "execution_count": 0,
      "outputs": [
        {
          "output_type": "stream",
          "text": [
            "/Users/xing/anaconda3/lib/python3.6/site-packages/ipykernel_launcher.py:2: DataConversionWarning: A column-vector y was passed when a 1d array was expected. Please change the shape of y to (n_samples, ), for example using ravel().\n",
            "  \n"
          ],
          "name": "stderr"
        }
      ]
    },
    {
      "cell_type": "code",
      "metadata": {
        "id": "g9nFH1BBcVfi",
        "colab_type": "code",
        "outputId": "5e71056e-7f19-442d-8a73-01ff8642c754",
        "colab": {}
      },
      "source": [
        "print(classification_report(y_test, pred_neigh))"
      ],
      "execution_count": 0,
      "outputs": [
        {
          "output_type": "stream",
          "text": [
            "                                                            precision    recall  f1-score   support\n",
            "\n",
            "                       1 to 3 regional lymph nodes removed       0.27      0.25      0.26      3925\n",
            "                    4 or more regional lymph nodes removed       0.69      0.75      0.72     10538\n",
            "          Biopsy or aspiration of regional lymph node, NOS       0.45      0.31      0.37      4017\n",
            "                                                      None       0.94      0.97      0.95     75603\n",
            "            Number of regional lymph nodes removed unknown       0.10      0.02      0.03       942\n",
            "                                Sentinel lymph node biopsy       0.00      0.00      0.00        41\n",
            "   Sentinel node biopsy and lym nd removed different times       0.00      0.00      0.00        28\n",
            "Sentinel node biopsy and lym nd removed same/unstated time       0.00      0.00      0.00        39\n",
            "                                 Unknown or not applicable       0.29      0.13      0.18      2041\n",
            "\n",
            "                                               avg / total       0.84      0.86      0.85     97174\n",
            "\n"
          ],
          "name": "stdout"
        },
        {
          "output_type": "stream",
          "text": [
            "/Users/xing/anaconda3/lib/python3.6/site-packages/sklearn/metrics/classification.py:1135: UndefinedMetricWarning: Precision and F-score are ill-defined and being set to 0.0 in labels with no predicted samples.\n",
            "  'precision', 'predicted', average, warn_for)\n"
          ],
          "name": "stderr"
        }
      ]
    },
    {
      "cell_type": "code",
      "metadata": {
        "id": "CQh350-BcVfl",
        "colab_type": "code",
        "colab": {}
      },
      "source": [
        "from yellowbrick.classifier import ConfusionMatrix"
      ],
      "execution_count": 0,
      "outputs": []
    },
    {
      "cell_type": "code",
      "metadata": {
        "id": "WJRycEBUcVfp",
        "colab_type": "code",
        "outputId": "bb262205-a93a-44cb-e283-6af5114d0ad3",
        "colab": {}
      },
      "source": [
        "# The ConfusionMatrix visualizer taxes a model\n",
        "cm = ConfusionMatrix(neigh, classes=[\"1 to 3 regional lymph nodes removed\",\"4 or more regional lymph nodes removed\",\n",
        "                                     \"Biopsy or aspiration of regional lymph node, NOS\",\"None\",\" Number of regional lymph nodes removed unknown\",\n",
        "                                     \"Sentinel lymph node biopsy\",\"Sentinel node biopsy and lym nd removed different times\",\n",
        "                                     \"Sentinel node biopsy and lym nd removed same/unstated time\",\"Unknown or not applicable\"])\n",
        "\n",
        "# Fit fits the passed model. This is unnecessary if you pass the visualizer a pre-fitted model\n",
        "cm.fit(X_train, y_train)\n",
        "\n",
        "# To create the ConfusionMatrix, we need some test data. Score runs predict() on the data\n",
        "# and then creates the confusion_matrix from scikit-learn.\n",
        "cm.score(X_test, y_test)\n",
        "\n",
        "# How did we do?\n",
        "cm.poof()"
      ],
      "execution_count": 0,
      "outputs": [
        {
          "output_type": "stream",
          "text": [
            "/Users/xing/anaconda3/lib/python3.6/site-packages/yellowbrick/classifier/base.py:104: DataConversionWarning: A column-vector y was passed when a 1d array was expected. Please change the shape of y to (n_samples, ), for example using ravel().\n",
            "  self.estimator.fit(X, y)\n"
          ],
          "name": "stderr"
        },
        {
          "output_type": "display_data",
          "data": {
            "image/png": "[encoded data removed]",
            "text/plain": [
              "<Figure size 432x288 with 1 Axes>"
            ]
          },
          "metadata": {
            "tags": []
          }
        }
      ]
    }
  ]
}