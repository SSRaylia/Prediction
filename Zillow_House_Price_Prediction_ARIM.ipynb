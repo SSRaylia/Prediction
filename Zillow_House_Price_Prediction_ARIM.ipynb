{
  "nbformat": 4,
  "nbformat_minor": 0,
  "metadata": {
    "colab": {
      "name": "Zillow House Price Prediction - ARIM",
      "version": "0.3.2",
      "provenance": [],
      "collapsed_sections": [],
      "include_colab_link": true
    },
    "kernelspec": {
      "name": "python3",
      "display_name": "Python 3"
    },
    "accelerator": "GPU"
  },
  "cells": [
    {
      "cell_type": "markdown",
      "metadata": {
        "id": "view-in-github",
        "colab_type": "text"
      },
      "source": [
        "<a href=\"https://colab.research.google.com/github/SSRaylia/Prediction-Using-Machine-Learning/blob/master/Zillow_House_Price_Prediction_ARIM.ipynb\" target=\"_parent\"><img src=\"https://colab.research.google.com/assets/colab-badge.svg\" alt=\"Open In Colab\"/></a>"
      ]
    },
    {
      "cell_type": "markdown",
      "metadata": {
        "id": "lkNjrilMLIFy",
        "colab_type": "text"
      },
      "source": [
        "# Explore Zillow"
      ]
    },
    {
      "cell_type": "markdown",
      "metadata": {
        "id": "XenkSb41LNaA",
        "colab_type": "text"
      },
      "source": [
        "## Ingest"
      ]
    },
    {
      "cell_type": "code",
      "metadata": {
        "id": "azFBbTNEI71Y",
        "colab_type": "code",
        "outputId": "8b0b12cd-85ae-4b02-8933-71a1b9f68ae6",
        "colab": {
          "base_uri": "https://localhost:8080/",
          "height": 17
        }
      },
      "source": [
        "import pandas as pd\n",
        "pd.set_option('display.float_format', lambda x: '%.3f' % x)\n",
        "import numpy as np\n",
        "import statsmodels.api as sm\n",
        "import statsmodels.formula.api as smf\n",
        "import matplotlib.pyplot as plt\n",
        "import seaborn as sns\n",
        "import seaborn as sns; sns.set(color_codes=True)\n",
        "from sklearn.cluster import KMeans\n",
        "color = sns.color_palette()\n",
        "from IPython.core.display import display, HTML\n",
        "display(HTML(\"<style>.container { width:100% !important; }</style>\"))\n",
        "%matplotlib inline\n",
        "from random import randrange\n",
        "from statsmodels.graphics.tsaplots import plot_acf, plot_pacf\n",
        "from statsmodels.tsa.arima_model import ARIMA\n",
        "from statsmodels.api import tsa"
      ],
      "execution_count": 0,
      "outputs": [
        {
          "output_type": "display_data",
          "data": {
            "text/html": [
              "<style>.container { width:100% !important; }</style>"
            ],
            "text/plain": [
              "<IPython.core.display.HTML object>"
            ]
          },
          "metadata": {
            "tags": []
          }
        }
      ]
    },
    {
      "cell_type": "code",
      "metadata": {
        "id": "pWFsalGNI71g",
        "colab_type": "code",
        "colab": {}
      },
      "source": [
        "df = pd.read_csv(\"https://raw.githubusercontent.com/noahgift/real_estate_ml/master/data/Zip_Zhvi_SingleFamilyResidence_2018.csv\")\n"
      ],
      "execution_count": 0,
      "outputs": []
    },
    {
      "cell_type": "markdown",
      "metadata": {
        "id": "yBHz-tyCLSF2",
        "colab_type": "text"
      },
      "source": [
        "## EDA"
      ]
    },
    {
      "cell_type": "code",
      "metadata": {
        "scrolled": true,
        "id": "dTlkq_MLI71k",
        "colab_type": "code",
        "outputId": "a1632610-f885-4f31-b10c-b6ebb4086417",
        "colab": {
          "base_uri": "https://localhost:8080/",
          "height": 340
        }
      },
      "source": [
        "df.describe()"
      ],
      "execution_count": 0,
      "outputs": [
        {
          "output_type": "execute_result",
          "data": {
            "text/html": [
              "<div>\n",
              "<style scoped>\n",
              "    .dataframe tbody tr th:only-of-type {\n",
              "        vertical-align: middle;\n",
              "    }\n",
              "\n",
              "    .dataframe tbody tr th {\n",
              "        vertical-align: top;\n",
              "    }\n",
              "\n",
              "    .dataframe thead th {\n",
              "        text-align: right;\n",
              "    }\n",
              "</style>\n",
              "<table border=\"1\" class=\"dataframe\">\n",
              "  <thead>\n",
              "    <tr style=\"text-align: right;\">\n",
              "      <th></th>\n",
              "      <th>RegionID</th>\n",
              "      <th>RegionName</th>\n",
              "      <th>SizeRank</th>\n",
              "      <th>1996-04</th>\n",
              "      <th>1996-05</th>\n",
              "      <th>1996-06</th>\n",
              "      <th>1996-07</th>\n",
              "      <th>1996-08</th>\n",
              "      <th>1996-09</th>\n",
              "      <th>1996-10</th>\n",
              "      <th>...</th>\n",
              "      <th>2018-03</th>\n",
              "      <th>2018-04</th>\n",
              "      <th>2018-05</th>\n",
              "      <th>2018-06</th>\n",
              "      <th>2018-07</th>\n",
              "      <th>2018-08</th>\n",
              "      <th>2018-09</th>\n",
              "      <th>2018-10</th>\n",
              "      <th>2018-11</th>\n",
              "      <th>2018-12</th>\n",
              "    </tr>\n",
              "  </thead>\n",
              "  <tbody>\n",
              "    <tr>\n",
              "      <th>count</th>\n",
              "      <td>15508.000</td>\n",
              "      <td>15508.000</td>\n",
              "      <td>15508.000</td>\n",
              "      <td>14338.000</td>\n",
              "      <td>14338.000</td>\n",
              "      <td>14338.000</td>\n",
              "      <td>14338.000</td>\n",
              "      <td>14338.000</td>\n",
              "      <td>14338.000</td>\n",
              "      <td>14338.000</td>\n",
              "      <td>...</td>\n",
              "      <td>15508.000</td>\n",
              "      <td>15508.000</td>\n",
              "      <td>15508.000</td>\n",
              "      <td>15508.000</td>\n",
              "      <td>15508.000</td>\n",
              "      <td>15508.000</td>\n",
              "      <td>15508.000</td>\n",
              "      <td>15508.000</td>\n",
              "      <td>15508.000</td>\n",
              "      <td>15508.000</td>\n",
              "    </tr>\n",
              "    <tr>\n",
              "      <th>mean</th>\n",
              "      <td>80789.618</td>\n",
              "      <td>47683.566</td>\n",
              "      <td>7754.500</td>\n",
              "      <td>115889.866</td>\n",
              "      <td>116007.379</td>\n",
              "      <td>116123.051</td>\n",
              "      <td>116235.493</td>\n",
              "      <td>116358.920</td>\n",
              "      <td>116501.681</td>\n",
              "      <td>116689.315</td>\n",
              "      <td>...</td>\n",
              "      <td>279359.582</td>\n",
              "      <td>280672.685</td>\n",
              "      <td>282148.749</td>\n",
              "      <td>283446.447</td>\n",
              "      <td>284466.282</td>\n",
              "      <td>285500.200</td>\n",
              "      <td>286717.307</td>\n",
              "      <td>288029.320</td>\n",
              "      <td>289187.510</td>\n",
              "      <td>290106.635</td>\n",
              "    </tr>\n",
              "    <tr>\n",
              "      <th>std</th>\n",
              "      <td>31521.485</td>\n",
              "      <td>29008.034</td>\n",
              "      <td>4476.918</td>\n",
              "      <td>85115.825</td>\n",
              "      <td>85264.209</td>\n",
              "      <td>85413.118</td>\n",
              "      <td>85566.676</td>\n",
              "      <td>85744.243</td>\n",
              "      <td>85958.867</td>\n",
              "      <td>86230.630</td>\n",
              "      <td>...</td>\n",
              "      <td>361868.364</td>\n",
              "      <td>361360.576</td>\n",
              "      <td>363102.089</td>\n",
              "      <td>365301.815</td>\n",
              "      <td>366277.876</td>\n",
              "      <td>367095.613</td>\n",
              "      <td>366772.521</td>\n",
              "      <td>364624.171</td>\n",
              "      <td>361143.146</td>\n",
              "      <td>359132.687</td>\n",
              "    </tr>\n",
              "    <tr>\n",
              "      <th>min</th>\n",
              "      <td>58196.000</td>\n",
              "      <td>1001.000</td>\n",
              "      <td>1.000</td>\n",
              "      <td>11300.000</td>\n",
              "      <td>11500.000</td>\n",
              "      <td>11600.000</td>\n",
              "      <td>11800.000</td>\n",
              "      <td>11800.000</td>\n",
              "      <td>12000.000</td>\n",
              "      <td>12100.000</td>\n",
              "      <td>...</td>\n",
              "      <td>21700.000</td>\n",
              "      <td>21700.000</td>\n",
              "      <td>22100.000</td>\n",
              "      <td>22200.000</td>\n",
              "      <td>22000.000</td>\n",
              "      <td>21800.000</td>\n",
              "      <td>21700.000</td>\n",
              "      <td>21500.000</td>\n",
              "      <td>21600.000</td>\n",
              "      <td>21900.000</td>\n",
              "    </tr>\n",
              "    <tr>\n",
              "      <th>25%</th>\n",
              "      <td>67215.000</td>\n",
              "      <td>22199.000</td>\n",
              "      <td>3877.750</td>\n",
              "      <td>66700.000</td>\n",
              "      <td>66800.000</td>\n",
              "      <td>66925.000</td>\n",
              "      <td>67100.000</td>\n",
              "      <td>67200.000</td>\n",
              "      <td>67300.000</td>\n",
              "      <td>67500.000</td>\n",
              "      <td>...</td>\n",
              "      <td>128300.000</td>\n",
              "      <td>128800.000</td>\n",
              "      <td>129675.000</td>\n",
              "      <td>130300.000</td>\n",
              "      <td>131100.000</td>\n",
              "      <td>131900.000</td>\n",
              "      <td>132900.000</td>\n",
              "      <td>134000.000</td>\n",
              "      <td>135100.000</td>\n",
              "      <td>135600.000</td>\n",
              "    </tr>\n",
              "    <tr>\n",
              "      <th>50%</th>\n",
              "      <td>77886.500</td>\n",
              "      <td>45792.500</td>\n",
              "      <td>7754.500</td>\n",
              "      <td>96500.000</td>\n",
              "      <td>96700.000</td>\n",
              "      <td>96750.000</td>\n",
              "      <td>96900.000</td>\n",
              "      <td>96900.000</td>\n",
              "      <td>97000.000</td>\n",
              "      <td>97150.000</td>\n",
              "      <td>...</td>\n",
              "      <td>191100.000</td>\n",
              "      <td>192150.000</td>\n",
              "      <td>193400.000</td>\n",
              "      <td>194600.000</td>\n",
              "      <td>195700.000</td>\n",
              "      <td>196900.000</td>\n",
              "      <td>198100.000</td>\n",
              "      <td>199600.000</td>\n",
              "      <td>201100.000</td>\n",
              "      <td>202150.000</td>\n",
              "    </tr>\n",
              "    <tr>\n",
              "      <th>75%</th>\n",
              "      <td>90314.250</td>\n",
              "      <td>74010.250</td>\n",
              "      <td>11631.250</td>\n",
              "      <td>140500.000</td>\n",
              "      <td>140600.000</td>\n",
              "      <td>140600.000</td>\n",
              "      <td>140800.000</td>\n",
              "      <td>141000.000</td>\n",
              "      <td>141100.000</td>\n",
              "      <td>141300.000</td>\n",
              "      <td>...</td>\n",
              "      <td>310750.000</td>\n",
              "      <td>312300.000</td>\n",
              "      <td>314325.000</td>\n",
              "      <td>316100.000</td>\n",
              "      <td>317425.000</td>\n",
              "      <td>318325.000</td>\n",
              "      <td>319800.000</td>\n",
              "      <td>321200.000</td>\n",
              "      <td>322425.000</td>\n",
              "      <td>323900.000</td>\n",
              "    </tr>\n",
              "    <tr>\n",
              "      <th>max</th>\n",
              "      <td>753844.000</td>\n",
              "      <td>99901.000</td>\n",
              "      <td>15508.000</td>\n",
              "      <td>3676700.000</td>\n",
              "      <td>3704200.000</td>\n",
              "      <td>3729600.000</td>\n",
              "      <td>3754600.000</td>\n",
              "      <td>3781800.000</td>\n",
              "      <td>3813500.000</td>\n",
              "      <td>3849600.000</td>\n",
              "      <td>...</td>\n",
              "      <td>17724700.000</td>\n",
              "      <td>17408900.000</td>\n",
              "      <td>17450500.000</td>\n",
              "      <td>17722800.000</td>\n",
              "      <td>18006700.000</td>\n",
              "      <td>18273800.000</td>\n",
              "      <td>18331900.000</td>\n",
              "      <td>18131900.000</td>\n",
              "      <td>17594900.000</td>\n",
              "      <td>17119600.000</td>\n",
              "    </tr>\n",
              "  </tbody>\n",
              "</table>\n",
              "<p>8 rows × 276 columns</p>\n",
              "</div>"
            ],
            "text/plain": [
              "        RegionID  RegionName  SizeRank     1996-04     1996-05     1996-06  \\\n",
              "count  15508.000   15508.000 15508.000   14338.000   14338.000   14338.000   \n",
              "mean   80789.618   47683.566  7754.500  115889.866  116007.379  116123.051   \n",
              "std    31521.485   29008.034  4476.918   85115.825   85264.209   85413.118   \n",
              "min    58196.000    1001.000     1.000   11300.000   11500.000   11600.000   \n",
              "25%    67215.000   22199.000  3877.750   66700.000   66800.000   66925.000   \n",
              "50%    77886.500   45792.500  7754.500   96500.000   96700.000   96750.000   \n",
              "75%    90314.250   74010.250 11631.250  140500.000  140600.000  140600.000   \n",
              "max   753844.000   99901.000 15508.000 3676700.000 3704200.000 3729600.000   \n",
              "\n",
              "          1996-07     1996-08     1996-09     1996-10  ...      2018-03  \\\n",
              "count   14338.000   14338.000   14338.000   14338.000  ...    15508.000   \n",
              "mean   116235.493  116358.920  116501.681  116689.315  ...   279359.582   \n",
              "std     85566.676   85744.243   85958.867   86230.630  ...   361868.364   \n",
              "min     11800.000   11800.000   12000.000   12100.000  ...    21700.000   \n",
              "25%     67100.000   67200.000   67300.000   67500.000  ...   128300.000   \n",
              "50%     96900.000   96900.000   97000.000   97150.000  ...   191100.000   \n",
              "75%    140800.000  141000.000  141100.000  141300.000  ...   310750.000   \n",
              "max   3754600.000 3781800.000 3813500.000 3849600.000  ... 17724700.000   \n",
              "\n",
              "           2018-04      2018-05      2018-06      2018-07      2018-08  \\\n",
              "count    15508.000    15508.000    15508.000    15508.000    15508.000   \n",
              "mean    280672.685   282148.749   283446.447   284466.282   285500.200   \n",
              "std     361360.576   363102.089   365301.815   366277.876   367095.613   \n",
              "min      21700.000    22100.000    22200.000    22000.000    21800.000   \n",
              "25%     128800.000   129675.000   130300.000   131100.000   131900.000   \n",
              "50%     192150.000   193400.000   194600.000   195700.000   196900.000   \n",
              "75%     312300.000   314325.000   316100.000   317425.000   318325.000   \n",
              "max   17408900.000 17450500.000 17722800.000 18006700.000 18273800.000   \n",
              "\n",
              "           2018-09      2018-10      2018-11      2018-12  \n",
              "count    15508.000    15508.000    15508.000    15508.000  \n",
              "mean    286717.307   288029.320   289187.510   290106.635  \n",
              "std     366772.521   364624.171   361143.146   359132.687  \n",
              "min      21700.000    21500.000    21600.000    21900.000  \n",
              "25%     132900.000   134000.000   135100.000   135600.000  \n",
              "50%     198100.000   199600.000   201100.000   202150.000  \n",
              "75%     319800.000   321200.000   322425.000   323900.000  \n",
              "max   18331900.000 18131900.000 17594900.000 17119600.000  \n",
              "\n",
              "[8 rows x 276 columns]"
            ]
          },
          "metadata": {
            "tags": []
          },
          "execution_count": 3
        }
      ]
    },
    {
      "cell_type": "markdown",
      "metadata": {
        "id": "sN0X6rcxI71q",
        "colab_type": "text"
      },
      "source": [
        "#### Clean Up DataFrame\n",
        "Rename RegionName to ZipCode and Change Zip Code to String "
      ]
    },
    {
      "cell_type": "code",
      "metadata": {
        "scrolled": false,
        "id": "v2wJ7XFuI71r",
        "colab_type": "code",
        "outputId": "1e3af06e-6533-4e86-e051-848562dd85d2",
        "colab": {
          "base_uri": "https://localhost:8080/",
          "height": 436
        }
      },
      "source": [
        "df.rename(columns={\"RegionName\":\"ZipCode\"}, inplace=True)\n",
        "df[\"ZipCode\"]=df[\"ZipCode\"].map(lambda x: \"{:.0f}\".format(x))\n",
        "df[\"RegionID\"]=df[\"RegionID\"].map(lambda x: \"{:.0f}\".format(x))\n",
        "df.head()"
      ],
      "execution_count": 0,
      "outputs": [
        {
          "output_type": "execute_result",
          "data": {
            "text/html": [
              "<div>\n",
              "<style scoped>\n",
              "    .dataframe tbody tr th:only-of-type {\n",
              "        vertical-align: middle;\n",
              "    }\n",
              "\n",
              "    .dataframe tbody tr th {\n",
              "        vertical-align: top;\n",
              "    }\n",
              "\n",
              "    .dataframe thead th {\n",
              "        text-align: right;\n",
              "    }\n",
              "</style>\n",
              "<table border=\"1\" class=\"dataframe\">\n",
              "  <thead>\n",
              "    <tr style=\"text-align: right;\">\n",
              "      <th></th>\n",
              "      <th>RegionID</th>\n",
              "      <th>ZipCode</th>\n",
              "      <th>City</th>\n",
              "      <th>State</th>\n",
              "      <th>Metro</th>\n",
              "      <th>CountyName</th>\n",
              "      <th>SizeRank</th>\n",
              "      <th>1996-04</th>\n",
              "      <th>1996-05</th>\n",
              "      <th>1996-06</th>\n",
              "      <th>...</th>\n",
              "      <th>2018-03</th>\n",
              "      <th>2018-04</th>\n",
              "      <th>2018-05</th>\n",
              "      <th>2018-06</th>\n",
              "      <th>2018-07</th>\n",
              "      <th>2018-08</th>\n",
              "      <th>2018-09</th>\n",
              "      <th>2018-10</th>\n",
              "      <th>2018-11</th>\n",
              "      <th>2018-12</th>\n",
              "    </tr>\n",
              "  </thead>\n",
              "  <tbody>\n",
              "    <tr>\n",
              "      <th>0</th>\n",
              "      <td>84654</td>\n",
              "      <td>60657</td>\n",
              "      <td>Chicago</td>\n",
              "      <td>IL</td>\n",
              "      <td>Chicago-Naperville-Elgin</td>\n",
              "      <td>Cook County</td>\n",
              "      <td>1</td>\n",
              "      <td>334200.000</td>\n",
              "      <td>335400.000</td>\n",
              "      <td>336500.000</td>\n",
              "      <td>...</td>\n",
              "      <td>1037400</td>\n",
              "      <td>1038700</td>\n",
              "      <td>1041500</td>\n",
              "      <td>1042800</td>\n",
              "      <td>1042900</td>\n",
              "      <td>1044400</td>\n",
              "      <td>1047800</td>\n",
              "      <td>1049700</td>\n",
              "      <td>1048300</td>\n",
              "      <td>1047900</td>\n",
              "    </tr>\n",
              "    <tr>\n",
              "      <th>1</th>\n",
              "      <td>91982</td>\n",
              "      <td>77494</td>\n",
              "      <td>Katy</td>\n",
              "      <td>TX</td>\n",
              "      <td>Houston-The Woodlands-Sugar Land</td>\n",
              "      <td>Harris County</td>\n",
              "      <td>2</td>\n",
              "      <td>210400.000</td>\n",
              "      <td>212200.000</td>\n",
              "      <td>212200.000</td>\n",
              "      <td>...</td>\n",
              "      <td>330400</td>\n",
              "      <td>332700</td>\n",
              "      <td>334500</td>\n",
              "      <td>335900</td>\n",
              "      <td>337000</td>\n",
              "      <td>338300</td>\n",
              "      <td>338400</td>\n",
              "      <td>336900</td>\n",
              "      <td>336000</td>\n",
              "      <td>336500</td>\n",
              "    </tr>\n",
              "    <tr>\n",
              "      <th>2</th>\n",
              "      <td>84616</td>\n",
              "      <td>60614</td>\n",
              "      <td>Chicago</td>\n",
              "      <td>IL</td>\n",
              "      <td>Chicago-Naperville-Elgin</td>\n",
              "      <td>Cook County</td>\n",
              "      <td>3</td>\n",
              "      <td>498100.000</td>\n",
              "      <td>500900.000</td>\n",
              "      <td>503100.000</td>\n",
              "      <td>...</td>\n",
              "      <td>1317900</td>\n",
              "      <td>1321100</td>\n",
              "      <td>1325300</td>\n",
              "      <td>1323800</td>\n",
              "      <td>1321200</td>\n",
              "      <td>1320700</td>\n",
              "      <td>1319500</td>\n",
              "      <td>1318800</td>\n",
              "      <td>1319700</td>\n",
              "      <td>1323300</td>\n",
              "    </tr>\n",
              "    <tr>\n",
              "      <th>3</th>\n",
              "      <td>93144</td>\n",
              "      <td>79936</td>\n",
              "      <td>El Paso</td>\n",
              "      <td>TX</td>\n",
              "      <td>El Paso</td>\n",
              "      <td>El Paso County</td>\n",
              "      <td>4</td>\n",
              "      <td>77300.000</td>\n",
              "      <td>77300.000</td>\n",
              "      <td>77300.000</td>\n",
              "      <td>...</td>\n",
              "      <td>120800</td>\n",
              "      <td>121300</td>\n",
              "      <td>122200</td>\n",
              "      <td>123000</td>\n",
              "      <td>123600</td>\n",
              "      <td>124500</td>\n",
              "      <td>125600</td>\n",
              "      <td>126300</td>\n",
              "      <td>126800</td>\n",
              "      <td>127400</td>\n",
              "    </tr>\n",
              "    <tr>\n",
              "      <th>4</th>\n",
              "      <td>91940</td>\n",
              "      <td>77449</td>\n",
              "      <td>Katy</td>\n",
              "      <td>TX</td>\n",
              "      <td>Houston-The Woodlands-Sugar Land</td>\n",
              "      <td>Harris County</td>\n",
              "      <td>5</td>\n",
              "      <td>95400.000</td>\n",
              "      <td>95600.000</td>\n",
              "      <td>95800.000</td>\n",
              "      <td>...</td>\n",
              "      <td>175500</td>\n",
              "      <td>176400</td>\n",
              "      <td>176900</td>\n",
              "      <td>176900</td>\n",
              "      <td>177300</td>\n",
              "      <td>178000</td>\n",
              "      <td>178500</td>\n",
              "      <td>179300</td>\n",
              "      <td>180200</td>\n",
              "      <td>180700</td>\n",
              "    </tr>\n",
              "  </tbody>\n",
              "</table>\n",
              "<p>5 rows × 280 columns</p>\n",
              "</div>"
            ],
            "text/plain": [
              "  RegionID ZipCode     City State                             Metro  \\\n",
              "0    84654   60657  Chicago    IL          Chicago-Naperville-Elgin   \n",
              "1    91982   77494     Katy    TX  Houston-The Woodlands-Sugar Land   \n",
              "2    84616   60614  Chicago    IL          Chicago-Naperville-Elgin   \n",
              "3    93144   79936  El Paso    TX                           El Paso   \n",
              "4    91940   77449     Katy    TX  Houston-The Woodlands-Sugar Land   \n",
              "\n",
              "       CountyName  SizeRank    1996-04    1996-05    1996-06  ...  2018-03  \\\n",
              "0     Cook County         1 334200.000 335400.000 336500.000  ...  1037400   \n",
              "1   Harris County         2 210400.000 212200.000 212200.000  ...   330400   \n",
              "2     Cook County         3 498100.000 500900.000 503100.000  ...  1317900   \n",
              "3  El Paso County         4  77300.000  77300.000  77300.000  ...   120800   \n",
              "4   Harris County         5  95400.000  95600.000  95800.000  ...   175500   \n",
              "\n",
              "   2018-04  2018-05  2018-06  2018-07  2018-08  2018-09  2018-10  2018-11  \\\n",
              "0  1038700  1041500  1042800  1042900  1044400  1047800  1049700  1048300   \n",
              "1   332700   334500   335900   337000   338300   338400   336900   336000   \n",
              "2  1321100  1325300  1323800  1321200  1320700  1319500  1318800  1319700   \n",
              "3   121300   122200   123000   123600   124500   125600   126300   126800   \n",
              "4   176400   176900   176900   177300   178000   178500   179300   180200   \n",
              "\n",
              "   2018-12  \n",
              "0  1047900  \n",
              "1   336500  \n",
              "2  1323300  \n",
              "3   127400  \n",
              "4   180700  \n",
              "\n",
              "[5 rows x 280 columns]"
            ]
          },
          "metadata": {
            "tags": []
          },
          "execution_count": 4
        }
      ]
    },
    {
      "cell_type": "code",
      "metadata": {
        "id": "RqzPnIu5I71t",
        "colab_type": "code",
        "colab": {}
      },
      "source": [
        "median_prices = df.median()"
      ],
      "execution_count": 0,
      "outputs": []
    },
    {
      "cell_type": "code",
      "metadata": {
        "id": "pBfbTmQmI710",
        "colab_type": "code",
        "outputId": "cdaafc33-76a5-440f-c020-a665885bcc94",
        "colab": {
          "base_uri": "https://localhost:8080/",
          "height": 200
        }
      },
      "source": [
        "sf_df = df[df[\"City\"] == \"San Francisco\"].median()\n",
        "df_comparison = pd.concat([sf_df,median_prices], axis=1)\n",
        "df_comparison.columns = [\"San Francisco\",\"Median USA\"]\n",
        "df_comparison.tail()\n"
      ],
      "execution_count": 0,
      "outputs": [
        {
          "output_type": "execute_result",
          "data": {
            "text/html": [
              "<div>\n",
              "<style scoped>\n",
              "    .dataframe tbody tr th:only-of-type {\n",
              "        vertical-align: middle;\n",
              "    }\n",
              "\n",
              "    .dataframe tbody tr th {\n",
              "        vertical-align: top;\n",
              "    }\n",
              "\n",
              "    .dataframe thead th {\n",
              "        text-align: right;\n",
              "    }\n",
              "</style>\n",
              "<table border=\"1\" class=\"dataframe\">\n",
              "  <thead>\n",
              "    <tr style=\"text-align: right;\">\n",
              "      <th></th>\n",
              "      <th>San Francisco</th>\n",
              "      <th>Median USA</th>\n",
              "    </tr>\n",
              "  </thead>\n",
              "  <tbody>\n",
              "    <tr>\n",
              "      <th>2018-08</th>\n",
              "      <td>1828600.000</td>\n",
              "      <td>196900.000</td>\n",
              "    </tr>\n",
              "    <tr>\n",
              "      <th>2018-09</th>\n",
              "      <td>1823200.000</td>\n",
              "      <td>198100.000</td>\n",
              "    </tr>\n",
              "    <tr>\n",
              "      <th>2018-10</th>\n",
              "      <td>1823700.000</td>\n",
              "      <td>199600.000</td>\n",
              "    </tr>\n",
              "    <tr>\n",
              "      <th>2018-11</th>\n",
              "      <td>1813400.000</td>\n",
              "      <td>201100.000</td>\n",
              "    </tr>\n",
              "    <tr>\n",
              "      <th>2018-12</th>\n",
              "      <td>1806000.000</td>\n",
              "      <td>202150.000</td>\n",
              "    </tr>\n",
              "  </tbody>\n",
              "</table>\n",
              "</div>"
            ],
            "text/plain": [
              "         San Francisco  Median USA\n",
              "2018-08    1828600.000  196900.000\n",
              "2018-09    1823200.000  198100.000\n",
              "2018-10    1823700.000  199600.000\n",
              "2018-11    1813400.000  201100.000\n",
              "2018-12    1806000.000  202150.000"
            ]
          },
          "metadata": {
            "tags": []
          },
          "execution_count": 6
        }
      ]
    },
    {
      "cell_type": "markdown",
      "metadata": {
        "id": "-OzqlAzvLXrA",
        "colab_type": "text"
      },
      "source": [
        "### Visualize"
      ]
    },
    {
      "cell_type": "code",
      "metadata": {
        "id": "LxrgDt54mtcG",
        "colab_type": "code",
        "outputId": "dad64a25-e587-4063-d238-9e63384f9905",
        "colab": {
          "base_uri": "https://localhost:8080/",
          "height": 406
        }
      },
      "source": [
        "sf_df.plot(figsize=(15, 6))\n",
        "median_prices.plot(figsize=(15, 6))\n",
        "plt.xlabel('Year', fontsize=20);\n",
        "plt.show()"
      ],
      "execution_count": 0,
      "outputs": [
        {
          "output_type": "display_data",
          "data": {
            "image/png": "[encoded data removed]",
            "text/plain": [
              "<Figure size 1080x432 with 1 Axes>"
            ]
          },
          "metadata": {
            "tags": []
          }
        }
      ]
    },
    {
      "cell_type": "markdown",
      "metadata": {
        "id": "SXv3uSzFZWf7",
        "colab_type": "text"
      },
      "source": [
        "## Modeling - ARIMA\n",
        "\n"
      ]
    },
    {
      "cell_type": "code",
      "metadata": {
        "id": "lGOmYdiZZYve",
        "colab_type": "code",
        "outputId": "5e5d1997-7e06-4aa6-eaaa-8a53e56b98a7",
        "colab": {
          "base_uri": "https://localhost:8080/",
          "height": 504
        }
      },
      "source": [
        "city = df[(df[\"City\"] == \"San Francisco\")]\n",
        "city.head()"
      ],
      "execution_count": 0,
      "outputs": [
        {
          "output_type": "execute_result",
          "data": {
            "text/html": [
              "<div>\n",
              "<style scoped>\n",
              "    .dataframe tbody tr th:only-of-type {\n",
              "        vertical-align: middle;\n",
              "    }\n",
              "\n",
              "    .dataframe tbody tr th {\n",
              "        vertical-align: top;\n",
              "    }\n",
              "\n",
              "    .dataframe thead th {\n",
              "        text-align: right;\n",
              "    }\n",
              "</style>\n",
              "<table border=\"1\" class=\"dataframe\">\n",
              "  <thead>\n",
              "    <tr style=\"text-align: right;\">\n",
              "      <th></th>\n",
              "      <th>RegionID</th>\n",
              "      <th>ZipCode</th>\n",
              "      <th>City</th>\n",
              "      <th>State</th>\n",
              "      <th>Metro</th>\n",
              "      <th>CountyName</th>\n",
              "      <th>SizeRank</th>\n",
              "      <th>1996-04</th>\n",
              "      <th>1996-05</th>\n",
              "      <th>1996-06</th>\n",
              "      <th>...</th>\n",
              "      <th>2018-03</th>\n",
              "      <th>2018-04</th>\n",
              "      <th>2018-05</th>\n",
              "      <th>2018-06</th>\n",
              "      <th>2018-07</th>\n",
              "      <th>2018-08</th>\n",
              "      <th>2018-09</th>\n",
              "      <th>2018-10</th>\n",
              "      <th>2018-11</th>\n",
              "      <th>2018-12</th>\n",
              "    </tr>\n",
              "  </thead>\n",
              "  <tbody>\n",
              "    <tr>\n",
              "      <th>9</th>\n",
              "      <td>97564</td>\n",
              "      <td>94109</td>\n",
              "      <td>San Francisco</td>\n",
              "      <td>CA</td>\n",
              "      <td>San Francisco-Oakland-Hayward</td>\n",
              "      <td>San Francisco County</td>\n",
              "      <td>10</td>\n",
              "      <td>766000.000</td>\n",
              "      <td>771100.000</td>\n",
              "      <td>776500.000</td>\n",
              "      <td>...</td>\n",
              "      <td>3761200</td>\n",
              "      <td>3810600</td>\n",
              "      <td>3876700</td>\n",
              "      <td>3942300</td>\n",
              "      <td>3982900</td>\n",
              "      <td>3993000</td>\n",
              "      <td>3999000</td>\n",
              "      <td>4014600</td>\n",
              "      <td>4009500</td>\n",
              "      <td>4016600</td>\n",
              "    </tr>\n",
              "    <tr>\n",
              "      <th>79</th>\n",
              "      <td>97565</td>\n",
              "      <td>94110</td>\n",
              "      <td>San Francisco</td>\n",
              "      <td>CA</td>\n",
              "      <td>San Francisco-Oakland-Hayward</td>\n",
              "      <td>San Francisco County</td>\n",
              "      <td>80</td>\n",
              "      <td>213900.000</td>\n",
              "      <td>214800.000</td>\n",
              "      <td>216000.000</td>\n",
              "      <td>...</td>\n",
              "      <td>1566500</td>\n",
              "      <td>1592600</td>\n",
              "      <td>1625200</td>\n",
              "      <td>1645500</td>\n",
              "      <td>1651200</td>\n",
              "      <td>1653600</td>\n",
              "      <td>1656100</td>\n",
              "      <td>1654100</td>\n",
              "      <td>1643000</td>\n",
              "      <td>1637100</td>\n",
              "    </tr>\n",
              "    <tr>\n",
              "      <th>348</th>\n",
              "      <td>97576</td>\n",
              "      <td>94122</td>\n",
              "      <td>San Francisco</td>\n",
              "      <td>CA</td>\n",
              "      <td>San Francisco-Oakland-Hayward</td>\n",
              "      <td>San Francisco County</td>\n",
              "      <td>349</td>\n",
              "      <td>278400.000</td>\n",
              "      <td>278300.000</td>\n",
              "      <td>278400.000</td>\n",
              "      <td>...</td>\n",
              "      <td>1396800</td>\n",
              "      <td>1405900</td>\n",
              "      <td>1417800</td>\n",
              "      <td>1430000</td>\n",
              "      <td>1441500</td>\n",
              "      <td>1449700</td>\n",
              "      <td>1457300</td>\n",
              "      <td>1463500</td>\n",
              "      <td>1460200</td>\n",
              "      <td>1456700</td>\n",
              "    </tr>\n",
              "    <tr>\n",
              "      <th>525</th>\n",
              "      <td>97567</td>\n",
              "      <td>94112</td>\n",
              "      <td>San Francisco</td>\n",
              "      <td>CA</td>\n",
              "      <td>San Francisco-Oakland-Hayward</td>\n",
              "      <td>San Francisco County</td>\n",
              "      <td>526</td>\n",
              "      <td>210100.000</td>\n",
              "      <td>210200.000</td>\n",
              "      <td>210300.000</td>\n",
              "      <td>...</td>\n",
              "      <td>1024500</td>\n",
              "      <td>1030500</td>\n",
              "      <td>1038500</td>\n",
              "      <td>1047300</td>\n",
              "      <td>1055300</td>\n",
              "      <td>1064600</td>\n",
              "      <td>1079100</td>\n",
              "      <td>1096700</td>\n",
              "      <td>1110100</td>\n",
              "      <td>1119700</td>\n",
              "    </tr>\n",
              "    <tr>\n",
              "      <th>776</th>\n",
              "      <td>97569</td>\n",
              "      <td>94115</td>\n",
              "      <td>San Francisco</td>\n",
              "      <td>CA</td>\n",
              "      <td>San Francisco-Oakland-Hayward</td>\n",
              "      <td>San Francisco County</td>\n",
              "      <td>777</td>\n",
              "      <td>794000.000</td>\n",
              "      <td>796500.000</td>\n",
              "      <td>799000.000</td>\n",
              "      <td>...</td>\n",
              "      <td>4135600</td>\n",
              "      <td>4149700</td>\n",
              "      <td>4169900</td>\n",
              "      <td>4194500</td>\n",
              "      <td>4222100</td>\n",
              "      <td>4238300</td>\n",
              "      <td>4236100</td>\n",
              "      <td>4241700</td>\n",
              "      <td>4231700</td>\n",
              "      <td>4221300</td>\n",
              "    </tr>\n",
              "  </tbody>\n",
              "</table>\n",
              "<p>5 rows × 280 columns</p>\n",
              "</div>"
            ],
            "text/plain": [
              "    RegionID ZipCode           City State                          Metro  \\\n",
              "9      97564   94109  San Francisco    CA  San Francisco-Oakland-Hayward   \n",
              "79     97565   94110  San Francisco    CA  San Francisco-Oakland-Hayward   \n",
              "348    97576   94122  San Francisco    CA  San Francisco-Oakland-Hayward   \n",
              "525    97567   94112  San Francisco    CA  San Francisco-Oakland-Hayward   \n",
              "776    97569   94115  San Francisco    CA  San Francisco-Oakland-Hayward   \n",
              "\n",
              "               CountyName  SizeRank    1996-04    1996-05    1996-06  ...  \\\n",
              "9    San Francisco County        10 766000.000 771100.000 776500.000  ...   \n",
              "79   San Francisco County        80 213900.000 214800.000 216000.000  ...   \n",
              "348  San Francisco County       349 278400.000 278300.000 278400.000  ...   \n",
              "525  San Francisco County       526 210100.000 210200.000 210300.000  ...   \n",
              "776  San Francisco County       777 794000.000 796500.000 799000.000  ...   \n",
              "\n",
              "     2018-03  2018-04  2018-05  2018-06  2018-07  2018-08  2018-09  2018-10  \\\n",
              "9    3761200  3810600  3876700  3942300  3982900  3993000  3999000  4014600   \n",
              "79   1566500  1592600  1625200  1645500  1651200  1653600  1656100  1654100   \n",
              "348  1396800  1405900  1417800  1430000  1441500  1449700  1457300  1463500   \n",
              "525  1024500  1030500  1038500  1047300  1055300  1064600  1079100  1096700   \n",
              "776  4135600  4149700  4169900  4194500  4222100  4238300  4236100  4241700   \n",
              "\n",
              "     2018-11  2018-12  \n",
              "9    4009500  4016600  \n",
              "79   1643000  1637100  \n",
              "348  1460200  1456700  \n",
              "525  1110100  1119700  \n",
              "776  4231700  4221300  \n",
              "\n",
              "[5 rows x 280 columns]"
            ]
          },
          "metadata": {
            "tags": []
          },
          "execution_count": 8
        }
      ]
    },
    {
      "cell_type": "code",
      "metadata": {
        "id": "LLf7fsOAJhiE",
        "colab_type": "code",
        "colab": {}
      },
      "source": [
        "city = city.drop(['RegionID','ZipCode','City', 'State', 'Metro', 'CountyName', 'SizeRank'],axis=1)\n",
        "city_transposed = city.transpose()\n"
      ],
      "execution_count": 0,
      "outputs": []
    },
    {
      "cell_type": "code",
      "metadata": {
        "id": "0KCioUywK7ml",
        "colab_type": "code",
        "colab": {}
      },
      "source": [
        "city_transposed['average'] = city_transposed.mean(numeric_only=True, axis=1)"
      ],
      "execution_count": 0,
      "outputs": []
    },
    {
      "cell_type": "code",
      "metadata": {
        "id": "isv-TTmYj2BE",
        "colab_type": "code",
        "colab": {}
      },
      "source": [
        "city_transposed = city_transposed.dropna()"
      ],
      "execution_count": 0,
      "outputs": []
    },
    {
      "cell_type": "code",
      "metadata": {
        "id": "FOLk_wIxgskJ",
        "colab_type": "code",
        "colab": {}
      },
      "source": [
        "citymean = city_transposed['average']"
      ],
      "execution_count": 0,
      "outputs": []
    },
    {
      "cell_type": "code",
      "metadata": {
        "id": "DCgpgY99iUW2",
        "colab_type": "code",
        "colab": {}
      },
      "source": [
        "X = citymean.values\n",
        "X = X.reshape(-1, 1)\n",
        "X_train = X[0:220]\n",
        "X_test = X[220:]"
      ],
      "execution_count": 0,
      "outputs": []
    },
    {
      "cell_type": "code",
      "metadata": {
        "id": "RQa8lmhqg7_L",
        "colab_type": "code",
        "colab": {}
      },
      "source": [
        "model_arima = ARIMA(X_train,order=(1,1,1))\n",
        "model_arima_fit=model_arima.fit()"
      ],
      "execution_count": 0,
      "outputs": []
    },
    {
      "cell_type": "code",
      "metadata": {
        "id": "fIU8-V3HksLZ",
        "colab_type": "code",
        "outputId": "0ea337f4-5471-40fd-e7d2-17f8e5abbf66",
        "colab": {
          "base_uri": "https://localhost:8080/",
          "height": 337
        }
      },
      "source": [
        "predictions = model_arima_fit.forecast(steps=53)[0]\n",
        "predictions"
      ],
      "execution_count": 0,
      "outputs": [
        {
          "output_type": "execute_result",
          "data": {
            "text/plain": [
              "array([1652370.56672703, 1668574.80313005, 1684026.0395657 ,\n",
              "       1698780.44691775, 1712890.00593938, 1726402.81982076,\n",
              "       1739363.40344017, 1751812.95103826, 1763789.58392471,\n",
              "       1775328.57970703, 1786462.58441971, 1797221.80882939,\n",
              "       1807634.21009643, 1817725.65988521, 1827520.09993404,\n",
              "       1837039.68602024, 1846304.92118582, 1855334.77902525,\n",
              "       1864146.81777623, 1872757.2858999 , 1881181.21978505,\n",
              "       1889432.53416406, 1897524.10578413, 1905467.85083694,\n",
              "       1913274.79661237, 1920955.14780716, 1928518.34788715,\n",
              "       1935973.13587218, 1943327.59888503, 1950589.22078041,\n",
              "       1957764.92714641, 1964861.12694907, 1971883.75107036,\n",
              "       1978838.28797141, 1985729.81669537, 1992563.03740843,\n",
              "       1999342.29966259, 2006071.62855007, 2012754.74890682,\n",
              "       2019395.10771041, 2025995.89480724, 2032560.06209352,\n",
              "       2039090.34126539, 2045589.26024507, 2052059.15838154,\n",
              "       2058502.20051741, 2064920.39000639, 2071315.58075978,\n",
              "       2077689.48839425, 2084043.70054813, 2090379.68642804,\n",
              "       2096698.80564351, 2103002.31638242])"
            ]
          },
          "metadata": {
            "tags": []
          },
          "execution_count": 15
        }
      ]
    },
    {
      "cell_type": "code",
      "metadata": {
        "id": "_IInFdbklIDV",
        "colab_type": "code",
        "outputId": "9366fe60-1956-4292-b016-72f914211121",
        "colab": {
          "base_uri": "https://localhost:8080/",
          "height": 292
        }
      },
      "source": [
        "plt.plot(X_test)\n",
        "plt.plot(predictions,color='red')"
      ],
      "execution_count": 0,
      "outputs": [
        {
          "output_type": "execute_result",
          "data": {
            "text/plain": [
              "[<matplotlib.lines.Line2D at 0x7f1ed3339438>]"
            ]
          },
          "metadata": {
            "tags": []
          },
          "execution_count": 16
        },
        {
          "output_type": "display_data",
          "data": {
            "image/png": "[encoded data removed]",
            "text/plain": [
              "<Figure size 432x288 with 1 Axes>"
            ]
          },
          "metadata": {
            "tags": []
          }
        }
      ]
    },
    {
      "cell_type": "code",
      "metadata": {
        "id": "JYkFD3B7PtXi",
        "colab_type": "code",
        "outputId": "13fcf5c3-cf37-4eb8-a50d-7353e494fbef",
        "colab": {
          "base_uri": "https://localhost:8080/",
          "height": 621
        }
      },
      "source": [
        "predictions = model_arima_fit.forecast(steps=100)[0]\n",
        "predictions"
      ],
      "execution_count": 0,
      "outputs": [
        {
          "output_type": "execute_result",
          "data": {
            "text/plain": [
              "array([1652370.56672703, 1668574.80313005, 1684026.0395657 ,\n",
              "       1698780.44691775, 1712890.00593938, 1726402.81982076,\n",
              "       1739363.40344017, 1751812.95103826, 1763789.58392471,\n",
              "       1775328.57970703, 1786462.58441971, 1797221.80882939,\n",
              "       1807634.21009643, 1817725.65988521, 1827520.09993404,\n",
              "       1837039.68602024, 1846304.92118582, 1855334.77902525,\n",
              "       1864146.81777623, 1872757.2858999 , 1881181.21978505,\n",
              "       1889432.53416406, 1897524.10578413, 1905467.85083694,\n",
              "       1913274.79661237, 1920955.14780716, 1928518.34788715,\n",
              "       1935973.13587218, 1943327.59888503, 1950589.22078041,\n",
              "       1957764.92714641, 1964861.12694907, 1971883.75107036,\n",
              "       1978838.28797141, 1985729.81669537, 1992563.03740843,\n",
              "       1999342.29966259, 2006071.62855007, 2012754.74890682,\n",
              "       2019395.10771041, 2025995.89480724, 2032560.06209352,\n",
              "       2039090.34126539, 2045589.26024507, 2052059.15838154,\n",
              "       2058502.20051741, 2064920.39000639, 2071315.58075978,\n",
              "       2077689.48839425, 2084043.70054813, 2090379.68642804,\n",
              "       2096698.80564351, 2103002.31638242, 2109291.38297673,\n",
              "       2115567.08290374, 2121830.41326511, 2128082.29678255,\n",
              "       2134323.58734635, 2140555.07514984, 2146777.49144102,\n",
              "       2152991.51291959, 2159197.76580611, 2165396.82960746,\n",
              "       2171589.24060159, 2177775.49506218, 2183956.05224279,\n",
              "       2190131.33713847, 2196301.74304128, 2202467.63390521,\n",
              "       2208629.34653467, 2214787.1926098 , 2220941.46056059,\n",
              "       2227092.41730126, 2233240.30983529, 2239385.36674062,\n",
              "       2245527.79954418, 2251667.80399382, 2257805.56123533,\n",
              "       2263941.23890176, 2270074.99212135, 2276206.96445039,\n",
              "       2282337.28873642, 2288466.08791708, 2294593.47575932,\n",
              "       2300719.55754353, 2306844.43069659, 2312968.1853777 ,\n",
              "       2319090.90502054, 2325212.66683496, 2331333.54227125,\n",
              "       2337453.5974498 , 2343572.89355866, 2349691.48722148,\n",
              "       2355809.43083802, 2361926.77289923, 2368043.5582788 ,\n",
              "       2374159.82850303, 2380275.62200051, 2386390.97433321,\n",
              "       2392505.91841032])"
            ]
          },
          "metadata": {
            "tags": []
          },
          "execution_count": 17
        }
      ]
    },
    {
      "cell_type": "code",
      "metadata": {
        "id": "7qx3jpOjPw7f",
        "colab_type": "code",
        "outputId": "aeaf7112-f7d1-432e-ec61-d3bcb7e62f75",
        "colab": {
          "base_uri": "https://localhost:8080/",
          "height": 292
        }
      },
      "source": [
        "plt.plot(X_test)\n",
        "plt.plot(predictions,color='red')"
      ],
      "execution_count": 0,
      "outputs": [
        {
          "output_type": "execute_result",
          "data": {
            "text/plain": [
              "[<matplotlib.lines.Line2D at 0x7f1ed328ddd8>]"
            ]
          },
          "metadata": {
            "tags": []
          },
          "execution_count": 18
        },
        {
          "output_type": "display_data",
          "data": {
            "image/png": "[encoded data removed]",
            "text/plain": [
              "<Figure size 432x288 with 1 Axes>"
            ]
          },
          "metadata": {
            "tags": []
          }
        }
      ]
    }
  ]
}