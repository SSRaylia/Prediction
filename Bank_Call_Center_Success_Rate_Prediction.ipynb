{
  "nbformat": 4,
  "nbformat_minor": 0,
  "metadata": {
    "colab": {
      "name": "Bank Call Center Success Rate Prediction",
      "version": "0.3.2",
      "provenance": [],
      "collapsed_sections": [
        "HuKfV4qAGD0C",
        "VbyXTXaMGsxQ",
        "NMDuUMnNGP9H",
        "bJWCazdyt0VW",
        "IiTfhHIlBwxd",
        "yGp6tQVWaZWX",
        "0UtXz-SQS6f_"
      ],
      "include_colab_link": true
    },
    "kernelspec": {
      "name": "python3",
      "display_name": "Python 3"
    }
  },
  "cells": [
    {
      "cell_type": "markdown",
      "metadata": {
        "id": "view-in-github",
        "colab_type": "text"
      },
      "source": [
        "<a href=\"https://colab.research.google.com/github/SSRaylia/Prediction-Using-Machine-Learning/blob/master/Bank_Call_Center_Success_Rate_Prediction.ipynb\" target=\"_parent\"><img src=\"https://colab.research.google.com/assets/colab-badge.svg\" alt=\"Open In Colab\"/></a>"
      ]
    },
    {
      "cell_type": "markdown",
      "metadata": {
        "id": "BeCEw5lxdtyt",
        "colab_type": "text"
      },
      "source": [
        "# Bank Call Center Success Rate Prediction"
      ]
    },
    {
      "cell_type": "markdown",
      "metadata": {
        "id": "vK1A8U9Dd9n6",
        "colab_type": "text"
      },
      "source": [
        "![替代文字](https://aircall.io/blog/wp-content/uploads/2016/11/contact-center-vs.-call-center.png)"
      ]
    },
    {
      "cell_type": "markdown",
      "metadata": {
        "id": "CSarXSkNeUmh",
        "colab_type": "text"
      },
      "source": [
        "### **Data**: The data is a public data set related with direct marketing campaigns (phone calls) of a Euro banking institution. \n",
        "\n",
        "### **Goal**: The classification goal is to analyze the features of customers who subscribe a Term Deposit after a sales call and build prediction model for campaign in future."
      ]
    },
    {
      "cell_type": "markdown",
      "metadata": {
        "id": "HuKfV4qAGD0C",
        "colab_type": "text"
      },
      "source": [
        "# **Ingestion**"
      ]
    },
    {
      "cell_type": "code",
      "metadata": {
        "id": "Q7msdlSzlNs6",
        "colab_type": "code",
        "outputId": "dc5a215d-8df4-472f-a22a-e843d64177a1",
        "colab": {
          "base_uri": "https://localhost:8080/",
          "height": 403
        }
      },
      "source": [
        "import pandas as pd\n",
        "import matplotlib.pyplot as plt\n",
        "import seaborn as sns\n",
        "\n",
        "!pip install ggplot\n",
        "from ggplot import *\n",
        "\n",
        "import numpy as np\n",
        "from scipy import stats\n",
        "\n",
        "%matplotlib inline"
      ],
      "execution_count": 0,
      "outputs": [
        {
          "output_type": "stream",
          "text": [
            "Requirement already satisfied: ggplot in /usr/local/lib/python3.6/dist-packages (0.11.5)\n",
            "Requirement already satisfied: numpy in /usr/local/lib/python3.6/dist-packages (from ggplot) (1.14.6)\n",
            "Requirement already satisfied: cycler in /usr/local/lib/python3.6/dist-packages (from ggplot) (0.10.0)\n",
            "Requirement already satisfied: scipy in /usr/local/lib/python3.6/dist-packages (from ggplot) (1.1.0)\n",
            "Requirement already satisfied: patsy>=0.4 in /usr/local/lib/python3.6/dist-packages (from ggplot) (0.5.1)\n",
            "Requirement already satisfied: six in /usr/local/lib/python3.6/dist-packages (from ggplot) (1.11.0)\n",
            "Requirement already satisfied: pandas in /usr/local/lib/python3.6/dist-packages (from ggplot) (0.22.0)\n",
            "Requirement already satisfied: matplotlib in /usr/local/lib/python3.6/dist-packages (from ggplot) (3.0.2)\n",
            "Requirement already satisfied: statsmodels in /usr/local/lib/python3.6/dist-packages (from ggplot) (0.8.0)\n",
            "Requirement already satisfied: brewer2mpl in /usr/local/lib/python3.6/dist-packages (from ggplot) (1.4.1)\n",
            "Requirement already satisfied: python-dateutil>=2 in /usr/local/lib/python3.6/dist-packages (from pandas->ggplot) (2.5.3)\n",
            "Requirement already satisfied: pytz>=2011k in /usr/local/lib/python3.6/dist-packages (from pandas->ggplot) (2018.9)\n",
            "Requirement already satisfied: pyparsing!=2.0.4,!=2.1.2,!=2.1.6,>=2.0.1 in /usr/local/lib/python3.6/dist-packages (from matplotlib->ggplot) (2.3.1)\n",
            "Requirement already satisfied: kiwisolver>=1.0.1 in /usr/local/lib/python3.6/dist-packages (from matplotlib->ggplot) (1.0.1)\n",
            "Requirement already satisfied: setuptools in /usr/local/lib/python3.6/dist-packages (from kiwisolver>=1.0.1->matplotlib->ggplot) (40.8.0)\n"
          ],
          "name": "stdout"
        },
        {
          "output_type": "stream",
          "text": [
            "/usr/local/lib/python3.6/dist-packages/ggplot/utils.py:81: FutureWarning: pandas.tslib is deprecated and will be removed in a future version.\n",
            "You can access Timestamp as pandas.Timestamp\n",
            "  pd.tslib.Timestamp,\n",
            "/usr/local/lib/python3.6/dist-packages/ggplot/stats/smoothers.py:4: FutureWarning: The pandas.lib module is deprecated and will be removed in a future version. These are private functions and can be accessed from pandas._libs.lib instead\n",
            "  from pandas.lib import Timestamp\n",
            "/usr/local/lib/python3.6/dist-packages/statsmodels/compat/pandas.py:56: FutureWarning: The pandas.core.datetools module is deprecated and will be removed in a future version. Please use the pandas.tseries module instead.\n",
            "  from pandas.core import datetools\n"
          ],
          "name": "stderr"
        }
      ]
    },
    {
      "cell_type": "code",
      "metadata": {
        "id": "dOXtuT2ClR1Q",
        "colab_type": "code",
        "outputId": "df4a2351-1071-46b8-e2e3-7b213958b0da",
        "colab": {
          "base_uri": "https://localhost:8080/",
          "height": 197
        }
      },
      "source": [
        "call = pd.read_csv(\"https://raw.githubusercontent.com/SSRaylia/mlproject/master/bigml_5c6c4383eba31d7304000c72.csv\")\n",
        "call.head()"
      ],
      "execution_count": 0,
      "outputs": [
        {
          "output_type": "execute_result",
          "data": {
            "text/html": [
              "<div>\n",
              "<style scoped>\n",
              "    .dataframe tbody tr th:only-of-type {\n",
              "        vertical-align: middle;\n",
              "    }\n",
              "\n",
              "    .dataframe tbody tr th {\n",
              "        vertical-align: top;\n",
              "    }\n",
              "\n",
              "    .dataframe thead th {\n",
              "        text-align: right;\n",
              "    }\n",
              "</style>\n",
              "<table border=\"1\" class=\"dataframe\">\n",
              "  <thead>\n",
              "    <tr style=\"text-align: right;\">\n",
              "      <th></th>\n",
              "      <th>age</th>\n",
              "      <th>job</th>\n",
              "      <th>marital</th>\n",
              "      <th>education</th>\n",
              "      <th>default</th>\n",
              "      <th>balance</th>\n",
              "      <th>housing</th>\n",
              "      <th>loan</th>\n",
              "      <th>contact</th>\n",
              "      <th>day</th>\n",
              "      <th>month</th>\n",
              "      <th>duration</th>\n",
              "      <th>campaign</th>\n",
              "      <th>pdays</th>\n",
              "      <th>previous</th>\n",
              "      <th>poutcome</th>\n",
              "      <th>Term deposit?</th>\n",
              "    </tr>\n",
              "  </thead>\n",
              "  <tbody>\n",
              "    <tr>\n",
              "      <th>0</th>\n",
              "      <td>58</td>\n",
              "      <td>management</td>\n",
              "      <td>married</td>\n",
              "      <td>tertiary</td>\n",
              "      <td>no</td>\n",
              "      <td>2143</td>\n",
              "      <td>yes</td>\n",
              "      <td>no</td>\n",
              "      <td>unknown</td>\n",
              "      <td>5</td>\n",
              "      <td>may</td>\n",
              "      <td>261</td>\n",
              "      <td>1</td>\n",
              "      <td>-1</td>\n",
              "      <td>0</td>\n",
              "      <td>unknown</td>\n",
              "      <td>no</td>\n",
              "    </tr>\n",
              "    <tr>\n",
              "      <th>1</th>\n",
              "      <td>44</td>\n",
              "      <td>technician</td>\n",
              "      <td>single</td>\n",
              "      <td>secondary</td>\n",
              "      <td>no</td>\n",
              "      <td>29</td>\n",
              "      <td>yes</td>\n",
              "      <td>no</td>\n",
              "      <td>unknown</td>\n",
              "      <td>5</td>\n",
              "      <td>may</td>\n",
              "      <td>151</td>\n",
              "      <td>1</td>\n",
              "      <td>-1</td>\n",
              "      <td>0</td>\n",
              "      <td>unknown</td>\n",
              "      <td>no</td>\n",
              "    </tr>\n",
              "    <tr>\n",
              "      <th>2</th>\n",
              "      <td>33</td>\n",
              "      <td>entrepreneur</td>\n",
              "      <td>married</td>\n",
              "      <td>secondary</td>\n",
              "      <td>no</td>\n",
              "      <td>2</td>\n",
              "      <td>yes</td>\n",
              "      <td>yes</td>\n",
              "      <td>unknown</td>\n",
              "      <td>5</td>\n",
              "      <td>may</td>\n",
              "      <td>76</td>\n",
              "      <td>1</td>\n",
              "      <td>-1</td>\n",
              "      <td>0</td>\n",
              "      <td>unknown</td>\n",
              "      <td>no</td>\n",
              "    </tr>\n",
              "    <tr>\n",
              "      <th>3</th>\n",
              "      <td>47</td>\n",
              "      <td>blue-collar</td>\n",
              "      <td>married</td>\n",
              "      <td>unknown</td>\n",
              "      <td>no</td>\n",
              "      <td>1506</td>\n",
              "      <td>yes</td>\n",
              "      <td>no</td>\n",
              "      <td>unknown</td>\n",
              "      <td>5</td>\n",
              "      <td>may</td>\n",
              "      <td>92</td>\n",
              "      <td>1</td>\n",
              "      <td>-1</td>\n",
              "      <td>0</td>\n",
              "      <td>unknown</td>\n",
              "      <td>no</td>\n",
              "    </tr>\n",
              "    <tr>\n",
              "      <th>4</th>\n",
              "      <td>33</td>\n",
              "      <td>unknown</td>\n",
              "      <td>single</td>\n",
              "      <td>unknown</td>\n",
              "      <td>no</td>\n",
              "      <td>1</td>\n",
              "      <td>no</td>\n",
              "      <td>no</td>\n",
              "      <td>unknown</td>\n",
              "      <td>5</td>\n",
              "      <td>may</td>\n",
              "      <td>198</td>\n",
              "      <td>1</td>\n",
              "      <td>-1</td>\n",
              "      <td>0</td>\n",
              "      <td>unknown</td>\n",
              "      <td>no</td>\n",
              "    </tr>\n",
              "  </tbody>\n",
              "</table>\n",
              "</div>"
            ],
            "text/plain": [
              "   age           job  marital  education default  balance housing loan  \\\n",
              "0   58    management  married   tertiary      no     2143     yes   no   \n",
              "1   44    technician   single  secondary      no       29     yes   no   \n",
              "2   33  entrepreneur  married  secondary      no        2     yes  yes   \n",
              "3   47   blue-collar  married    unknown      no     1506     yes   no   \n",
              "4   33       unknown   single    unknown      no        1      no   no   \n",
              "\n",
              "   contact  day month  duration  campaign  pdays  previous poutcome  \\\n",
              "0  unknown    5   may       261         1     -1         0  unknown   \n",
              "1  unknown    5   may       151         1     -1         0  unknown   \n",
              "2  unknown    5   may        76         1     -1         0  unknown   \n",
              "3  unknown    5   may        92         1     -1         0  unknown   \n",
              "4  unknown    5   may       198         1     -1         0  unknown   \n",
              "\n",
              "  Term deposit?  \n",
              "0            no  \n",
              "1            no  \n",
              "2            no  \n",
              "3            no  \n",
              "4            no  "
            ]
          },
          "metadata": {
            "tags": []
          },
          "execution_count": 2
        }
      ]
    },
    {
      "cell_type": "markdown",
      "metadata": {
        "id": "VbyXTXaMGsxQ",
        "colab_type": "text"
      },
      "source": [
        "# Data Preparation and EDA"
      ]
    },
    {
      "cell_type": "markdown",
      "metadata": {
        "id": "NMDuUMnNGP9H",
        "colab_type": "text"
      },
      "source": [
        "## Transform Categorical Data"
      ]
    },
    {
      "cell_type": "code",
      "metadata": {
        "id": "_QgS-2gV1P6J",
        "colab_type": "code",
        "outputId": "433d8606-8237-4ad4-948a-38c6fec77962",
        "colab": {
          "base_uri": "https://localhost:8080/",
          "height": 67
        }
      },
      "source": [
        "np.unique(call['job'])"
      ],
      "execution_count": 0,
      "outputs": [
        {
          "output_type": "execute_result",
          "data": {
            "text/plain": [
              "array(['admin.', 'blue-collar', 'entrepreneur', 'housemaid', 'management',\n",
              "       'retired', 'self-employed', 'services', 'student', 'technician',\n",
              "       'unemployed', 'unknown'], dtype=object)"
            ]
          },
          "metadata": {
            "tags": []
          },
          "execution_count": 3
        }
      ]
    },
    {
      "cell_type": "code",
      "metadata": {
        "id": "uRt9e0xf6rwf",
        "colab_type": "code",
        "colab": {}
      },
      "source": [
        "for df in [call]:\n",
        "    df['job_n']=df['job'].map({'admin.':11, 'blue-collar':4, 'entrepreneur':10, 'housemaid':3, 'management':9,'retired':5,'self-employed':7, 'services':6, 'student':2, 'technician':8,'unemployed':1, 'unknown':0})"
      ],
      "execution_count": 0,
      "outputs": []
    },
    {
      "cell_type": "code",
      "metadata": {
        "id": "-IJxtW6b17_A",
        "colab_type": "code",
        "outputId": "56d5583a-a28e-4039-a6ab-40e64699590b",
        "colab": {
          "base_uri": "https://localhost:8080/",
          "height": 33
        }
      },
      "source": [
        "np.unique(call['marital'])"
      ],
      "execution_count": 0,
      "outputs": [
        {
          "output_type": "execute_result",
          "data": {
            "text/plain": [
              "array(['divorced', 'married', 'single'], dtype=object)"
            ]
          },
          "metadata": {
            "tags": []
          },
          "execution_count": 5
        }
      ]
    },
    {
      "cell_type": "code",
      "metadata": {
        "id": "i_ijWba16Mde",
        "colab_type": "code",
        "colab": {}
      },
      "source": [
        "for df in [call]:\n",
        "    df['marital_n']=df['marital'].map({'divorced':2,'married':3,'single':1})"
      ],
      "execution_count": 0,
      "outputs": []
    },
    {
      "cell_type": "code",
      "metadata": {
        "id": "wCAqTGSp83SB",
        "colab_type": "code",
        "outputId": "904de1c3-1566-48f3-b6f3-6ff8d22bed97",
        "colab": {
          "base_uri": "https://localhost:8080/",
          "height": 33
        }
      },
      "source": [
        "np.unique(call['education'])"
      ],
      "execution_count": 0,
      "outputs": [
        {
          "output_type": "execute_result",
          "data": {
            "text/plain": [
              "array(['primary', 'secondary', 'tertiary', 'unknown'], dtype=object)"
            ]
          },
          "metadata": {
            "tags": []
          },
          "execution_count": 7
        }
      ]
    },
    {
      "cell_type": "code",
      "metadata": {
        "id": "yYz3Mx6t853X",
        "colab_type": "code",
        "colab": {}
      },
      "source": [
        "for df in [call]:\n",
        "    df['education_n']=df['education'].map({'primary':1, 'secondary':2, 'tertiary':3, 'unknown':0})"
      ],
      "execution_count": 0,
      "outputs": []
    },
    {
      "cell_type": "code",
      "metadata": {
        "id": "tGThW-c62BPb",
        "colab_type": "code",
        "outputId": "f7c1bcfe-91e3-4c88-b06d-44707311e77f",
        "colab": {
          "base_uri": "https://localhost:8080/",
          "height": 33
        }
      },
      "source": [
        "np.unique(call['default'])"
      ],
      "execution_count": 0,
      "outputs": [
        {
          "output_type": "execute_result",
          "data": {
            "text/plain": [
              "array(['no', 'yes'], dtype=object)"
            ]
          },
          "metadata": {
            "tags": []
          },
          "execution_count": 9
        }
      ]
    },
    {
      "cell_type": "code",
      "metadata": {
        "id": "0iCJJG434dNA",
        "colab_type": "code",
        "colab": {}
      },
      "source": [
        "for df in [call]:\n",
        "    df['default']=df['default'].map({'yes':1,'no':0})"
      ],
      "execution_count": 0,
      "outputs": []
    },
    {
      "cell_type": "code",
      "metadata": {
        "id": "EOcXud1q2Kln",
        "colab_type": "code",
        "outputId": "bbd270f7-ae4a-4f74-82e7-d82f327ddaee",
        "colab": {
          "base_uri": "https://localhost:8080/",
          "height": 33
        }
      },
      "source": [
        "np.unique(call['housing'])"
      ],
      "execution_count": 0,
      "outputs": [
        {
          "output_type": "execute_result",
          "data": {
            "text/plain": [
              "array(['no', 'yes'], dtype=object)"
            ]
          },
          "metadata": {
            "tags": []
          },
          "execution_count": 11
        }
      ]
    },
    {
      "cell_type": "code",
      "metadata": {
        "id": "oO52HfUE54wT",
        "colab_type": "code",
        "colab": {}
      },
      "source": [
        "for df in [call]:\n",
        "    df['housing']=df['housing'].map({'yes':1,'no':0})"
      ],
      "execution_count": 0,
      "outputs": []
    },
    {
      "cell_type": "code",
      "metadata": {
        "id": "J3lzmeD42Pt3",
        "colab_type": "code",
        "outputId": "d558ff1f-9a7a-4aa7-8d20-1ed0aad61b4a",
        "colab": {
          "base_uri": "https://localhost:8080/",
          "height": 33
        }
      },
      "source": [
        "np.unique(call['loan'])"
      ],
      "execution_count": 0,
      "outputs": [
        {
          "output_type": "execute_result",
          "data": {
            "text/plain": [
              "array(['no', 'yes'], dtype=object)"
            ]
          },
          "metadata": {
            "tags": []
          },
          "execution_count": 13
        }
      ]
    },
    {
      "cell_type": "code",
      "metadata": {
        "id": "iKt36fBO59EG",
        "colab_type": "code",
        "colab": {}
      },
      "source": [
        "for df in [call]:\n",
        "    df['loan']=df['loan'].map({'yes':1,'no':0})"
      ],
      "execution_count": 0,
      "outputs": []
    },
    {
      "cell_type": "code",
      "metadata": {
        "id": "pa4mX-_f2ShH",
        "colab_type": "code",
        "outputId": "dc0ace87-5eb3-4c87-c160-e30e23940585",
        "colab": {
          "base_uri": "https://localhost:8080/",
          "height": 33
        }
      },
      "source": [
        "np.unique(call['contact'])"
      ],
      "execution_count": 0,
      "outputs": [
        {
          "output_type": "execute_result",
          "data": {
            "text/plain": [
              "array(['cellular', 'telephone', 'unknown'], dtype=object)"
            ]
          },
          "metadata": {
            "tags": []
          },
          "execution_count": 15
        }
      ]
    },
    {
      "cell_type": "code",
      "metadata": {
        "id": "Irgqywn47ywZ",
        "colab_type": "code",
        "colab": {}
      },
      "source": [
        "for df in [call]:\n",
        "    df['contact_n']=df['contact'].map({'cellular':1, 'telephone':2, 'unknown':0})"
      ],
      "execution_count": 0,
      "outputs": []
    },
    {
      "cell_type": "code",
      "metadata": {
        "id": "qo1Pgelw2Vfz",
        "colab_type": "code",
        "outputId": "28ebfb29-6c04-43b0-b2ff-ad4eed87b60d",
        "colab": {
          "base_uri": "https://localhost:8080/",
          "height": 33
        }
      },
      "source": [
        "np.unique(call['poutcome'])"
      ],
      "execution_count": 0,
      "outputs": [
        {
          "output_type": "execute_result",
          "data": {
            "text/plain": [
              "array(['failure', 'other', 'success', 'unknown'], dtype=object)"
            ]
          },
          "metadata": {
            "tags": []
          },
          "execution_count": 17
        }
      ]
    },
    {
      "cell_type": "code",
      "metadata": {
        "id": "kYW2o15t8Ht_",
        "colab_type": "code",
        "colab": {}
      },
      "source": [
        "for df in [call]:\n",
        "    df['poutcome_n']=df['poutcome'].map({'failure':1, 'other':2, 'success':3, 'unknown':0})"
      ],
      "execution_count": 0,
      "outputs": []
    },
    {
      "cell_type": "code",
      "metadata": {
        "id": "Yz5szuj72aMP",
        "colab_type": "code",
        "outputId": "dfc0ecaf-d094-43f6-9061-fd5da1935fed",
        "colab": {
          "base_uri": "https://localhost:8080/",
          "height": 33
        }
      },
      "source": [
        "np.unique(call['Term deposit?'])"
      ],
      "execution_count": 0,
      "outputs": [
        {
          "output_type": "execute_result",
          "data": {
            "text/plain": [
              "array(['no', 'yes'], dtype=object)"
            ]
          },
          "metadata": {
            "tags": []
          },
          "execution_count": 19
        }
      ]
    },
    {
      "cell_type": "code",
      "metadata": {
        "id": "sN9bL7nR6A8K",
        "colab_type": "code",
        "colab": {}
      },
      "source": [
        "for df in [call]:\n",
        "    df['Term Deposit']=df['Term deposit?'].map({'yes':1,'no':0})"
      ],
      "execution_count": 0,
      "outputs": []
    },
    {
      "cell_type": "code",
      "metadata": {
        "id": "DPq5EvnD-Jqw",
        "colab_type": "code",
        "outputId": "9a4026a0-8adc-4513-fcfa-b03df47b6811",
        "colab": {
          "base_uri": "https://localhost:8080/",
          "height": 50
        }
      },
      "source": [
        "np.unique(call['month'])"
      ],
      "execution_count": 0,
      "outputs": [
        {
          "output_type": "execute_result",
          "data": {
            "text/plain": [
              "array(['apr', 'aug', 'dec', 'feb', 'jan', 'jul', 'jun', 'mar', 'may',\n",
              "       'nov', 'oct', 'sep'], dtype=object)"
            ]
          },
          "metadata": {
            "tags": []
          },
          "execution_count": 21
        }
      ]
    },
    {
      "cell_type": "code",
      "metadata": {
        "id": "7w-pjpO4-N0b",
        "colab_type": "code",
        "colab": {}
      },
      "source": [
        "for df in [call]:\n",
        "    df['month']=df['month'].map({'apr':4, 'aug':8, 'dec':12, 'feb':2, 'jan':1, 'jul':7, 'jun':6, 'mar':3, 'may':5,'nov':11, 'oct':10, 'sep':9})"
      ],
      "execution_count": 0,
      "outputs": []
    },
    {
      "cell_type": "markdown",
      "metadata": {
        "id": "bJWCazdyt0VW",
        "colab_type": "text"
      },
      "source": [
        "## EDA"
      ]
    },
    {
      "cell_type": "code",
      "metadata": {
        "id": "TfSMLyLOwSTx",
        "colab_type": "code",
        "colab": {}
      },
      "source": [
        "sns.set(color_codes=True)"
      ],
      "execution_count": 0,
      "outputs": []
    },
    {
      "cell_type": "code",
      "metadata": {
        "id": "a-otr9pGwvSm",
        "colab_type": "code",
        "outputId": "cd3a1670-f487-4be5-8396-8e7d56ad9149",
        "colab": {
          "base_uri": "https://localhost:8080/",
          "height": 427
        }
      },
      "source": [
        "sns.distplot(call['age'])"
      ],
      "execution_count": 0,
      "outputs": [
        {
          "output_type": "stream",
          "text": [
            "/usr/local/lib/python3.6/dist-packages/matplotlib/axes/_axes.py:6521: MatplotlibDeprecationWarning: \n",
            "The 'normed' kwarg was deprecated in Matplotlib 2.1 and will be removed in 3.1. Use 'density' instead.\n",
            "  alternative=\"'density'\", removal=\"3.1\")\n"
          ],
          "name": "stderr"
        },
        {
          "output_type": "execute_result",
          "data": {
            "text/plain": [
              "<matplotlib.axes._subplots.AxesSubplot at 0x7fc853bf24a8>"
            ]
          },
          "metadata": {
            "tags": []
          },
          "execution_count": 24
        },
        {
          "output_type": "display_data",
          "data": {
            "image/png": "[encoded data removed]",
            "text/plain": [
              "<Figure size 576x396 with 1 Axes>"
            ]
          },
          "metadata": {
            "tags": []
          }
        }
      ]
    },
    {
      "cell_type": "code",
      "metadata": {
        "id": "3SE8YGNGEpSp",
        "colab_type": "code",
        "outputId": "62038441-ddbf-468c-b877-427f46641836",
        "colab": {
          "base_uri": "https://localhost:8080/",
          "height": 547
        }
      },
      "source": [
        "jobgroup = call.groupby('job')['Term Deposit'].sum()/call.groupby('job')['Term Deposit'].count()\n",
        "jobcount = call.groupby('job')['Term Deposit'].count()\n",
        "\n",
        "jobgroup = pd.DataFrame({'jobrole':jobgroup.index, 'success rate':jobgroup.values})\n",
        "jobcount = pd.DataFrame({'jobrole':jobcount.index, 'total':jobcount.values})\n",
        "\n",
        "jobgroup.set_index(['jobrole'], inplace = True) \n",
        "jobcount.set_index(['jobrole'], inplace = True) \n",
        "\n",
        "plt.subplots(figsize=(15,8))\n",
        "ax = sns.barplot(x=jobcount.index, y=\"total\", data=jobcount)\n",
        "ax.set_ylabel('Total Call')\n",
        "\n",
        "ax2 = ax.twinx()\n",
        "jobgroup.plot(ax=ax2,color='r')\n",
        "ax2.set_ylabel('successrate')"
      ],
      "execution_count": 0,
      "outputs": [
        {
          "output_type": "stream",
          "text": [
            "/usr/local/lib/python3.6/dist-packages/seaborn/categorical.py:1428: FutureWarning: remove_na is deprecated and is a private function. Do not use.\n",
            "  stat_data = remove_na(group_data)\n"
          ],
          "name": "stderr"
        },
        {
          "output_type": "execute_result",
          "data": {
            "text/plain": [
              "Text(0, 0.5, 'successrate')"
            ]
          },
          "metadata": {
            "tags": []
          },
          "execution_count": 25
        },
        {
          "output_type": "display_data",
          "data": {
            "image/png": "[encoded data removed]",
            "text/plain": [
              "<Figure size 1080x576 with 2 Axes>"
            ]
          },
          "metadata": {
            "tags": []
          }
        }
      ]
    },
    {
      "cell_type": "code",
      "metadata": {
        "id": "wRBkQ7o-9OBe",
        "colab_type": "code",
        "outputId": "348d2064-90c1-4a6e-c686-74a3d90251ba",
        "colab": {
          "base_uri": "https://localhost:8080/",
          "height": 547
        }
      },
      "source": [
        "mgroup = call.groupby('marital')['Term Deposit'].sum()/call.groupby('marital')['Term Deposit'].count()\n",
        "mcount = call.groupby('marital')['Term Deposit'].count()\n",
        "\n",
        "mgroup = pd.DataFrame({'marital':mgroup.index, 'success rate':mgroup.values})\n",
        "mcount = pd.DataFrame({'marital':mcount.index, 'total':mcount.values})\n",
        "\n",
        "mgroup.set_index(['marital'], inplace = True) \n",
        "mcount.set_index(['marital'], inplace = True) \n",
        "\n",
        "plt.subplots(figsize=(15,8))\n",
        "ax = sns.barplot(x=mcount.index, y=\"total\", data=mcount)\n",
        "ax.set_ylabel('Total Call')\n",
        "\n",
        "ax2 = ax.twinx()\n",
        "mgroup.plot(ax=ax2,color='r')\n",
        "ax2.set_ylabel('successrate')"
      ],
      "execution_count": 0,
      "outputs": [
        {
          "output_type": "stream",
          "text": [
            "/usr/local/lib/python3.6/dist-packages/seaborn/categorical.py:1428: FutureWarning: remove_na is deprecated and is a private function. Do not use.\n",
            "  stat_data = remove_na(group_data)\n"
          ],
          "name": "stderr"
        },
        {
          "output_type": "execute_result",
          "data": {
            "text/plain": [
              "Text(0, 0.5, 'successrate')"
            ]
          },
          "metadata": {
            "tags": []
          },
          "execution_count": 26
        },
        {
          "output_type": "display_data",
          "data": {
            "image/png": "[encoded data removed]",
            "text/plain": [
              "<Figure size 1080x576 with 2 Axes>"
            ]
          },
          "metadata": {
            "tags": []
          }
        }
      ]
    },
    {
      "cell_type": "code",
      "metadata": {
        "id": "xO44-4unBJs_",
        "colab_type": "code",
        "outputId": "82fcf9dc-b701-4347-bb48-9094b1c26172",
        "colab": {
          "base_uri": "https://localhost:8080/",
          "height": 411
        }
      },
      "source": [
        "sns.boxplot('Term Deposit','duration',data=call)"
      ],
      "execution_count": 0,
      "outputs": [
        {
          "output_type": "stream",
          "text": [
            "/usr/local/lib/python3.6/dist-packages/seaborn/categorical.py:454: FutureWarning: remove_na is deprecated and is a private function. Do not use.\n",
            "  box_data = remove_na(group_data)\n"
          ],
          "name": "stderr"
        },
        {
          "output_type": "execute_result",
          "data": {
            "text/plain": [
              "<matplotlib.axes._subplots.AxesSubplot at 0x7fc853baf5c0>"
            ]
          },
          "metadata": {
            "tags": []
          },
          "execution_count": 28
        },
        {
          "output_type": "display_data",
          "data": {
            "image/png": "[encoded data removed]",
            "text/plain": [
              "<Figure size 576x396 with 1 Axes>"
            ]
          },
          "metadata": {
            "tags": []
          }
        }
      ]
    },
    {
      "cell_type": "markdown",
      "metadata": {
        "id": "IiTfhHIlBwxd",
        "colab_type": "text"
      },
      "source": [
        "# PCA on Customers Who Subscribed TD After Sales Call"
      ]
    },
    {
      "cell_type": "code",
      "metadata": {
        "id": "QGxGShFsVZLF",
        "colab_type": "code",
        "colab": {}
      },
      "source": [
        "call_new = call.drop(['job','marital','education','contact','poutcome','Term deposit?'],axis=1)"
      ],
      "execution_count": 0,
      "outputs": []
    },
    {
      "cell_type": "code",
      "metadata": {
        "id": "gdAhp62aVRxu",
        "colab_type": "code",
        "colab": {}
      },
      "source": [
        "call_new2 = call_new.loc[call_new['Term Deposit']==1]"
      ],
      "execution_count": 0,
      "outputs": []
    },
    {
      "cell_type": "code",
      "metadata": {
        "id": "69hx4Cq_BwcW",
        "colab_type": "code",
        "outputId": "4b50aa52-0ea5-43b0-ed79-912fa83f5fab",
        "colab": {
          "base_uri": "https://localhost:8080/",
          "height": 83
        }
      },
      "source": [
        "from sklearn.preprocessing import StandardScaler\n",
        "call_new2 = call_new2.drop(['previous','pdays','Term Deposit','month','day','campaign','job_n','contact_n'],axis=1)\n",
        "scaled_df = StandardScaler().fit_transform(call_new2)"
      ],
      "execution_count": 0,
      "outputs": [
        {
          "output_type": "stream",
          "text": [
            "/usr/local/lib/python3.6/dist-packages/sklearn/preprocessing/data.py:625: DataConversionWarning: Data with input dtype int64 were all converted to float64 by StandardScaler.\n",
            "  return self.partial_fit(X, y)\n",
            "/usr/local/lib/python3.6/dist-packages/sklearn/base.py:462: DataConversionWarning: Data with input dtype int64 were all converted to float64 by StandardScaler.\n",
            "  return self.fit(X, **fit_params).transform(X)\n"
          ],
          "name": "stderr"
        }
      ]
    },
    {
      "cell_type": "code",
      "metadata": {
        "id": "F6eW1gQz2TlX",
        "colab_type": "code",
        "outputId": "0f919139-3189-4f80-80a1-dde3a9b39815",
        "colab": {
          "base_uri": "https://localhost:8080/",
          "height": 67
        }
      },
      "source": [
        "call_new2.columns"
      ],
      "execution_count": 0,
      "outputs": [
        {
          "output_type": "execute_result",
          "data": {
            "text/plain": [
              "Index(['age', 'default', 'balance', 'housing', 'loan', 'duration', 'marital_n',\n",
              "       'education_n', 'poutcome_n'],\n",
              "      dtype='object')"
            ]
          },
          "metadata": {
            "tags": []
          },
          "execution_count": 32
        }
      ]
    },
    {
      "cell_type": "code",
      "metadata": {
        "id": "pDX5ZA5RS7SC",
        "colab_type": "code",
        "outputId": "bc7e601b-9727-4556-b0b8-79dbfba00970",
        "colab": {
          "base_uri": "https://localhost:8080/",
          "height": 197
        }
      },
      "source": [
        "pd.DataFrame(scaled_df).head()"
      ],
      "execution_count": 0,
      "outputs": [
        {
          "output_type": "execute_result",
          "data": {
            "text/html": [
              "<div>\n",
              "<style scoped>\n",
              "    .dataframe tbody tr th:only-of-type {\n",
              "        vertical-align: middle;\n",
              "    }\n",
              "\n",
              "    .dataframe tbody tr th {\n",
              "        vertical-align: top;\n",
              "    }\n",
              "\n",
              "    .dataframe thead th {\n",
              "        text-align: right;\n",
              "    }\n",
              "</style>\n",
              "<table border=\"1\" class=\"dataframe\">\n",
              "  <thead>\n",
              "    <tr style=\"text-align: right;\">\n",
              "      <th></th>\n",
              "      <th>0</th>\n",
              "      <th>1</th>\n",
              "      <th>2</th>\n",
              "      <th>3</th>\n",
              "      <th>4</th>\n",
              "      <th>5</th>\n",
              "      <th>6</th>\n",
              "      <th>7</th>\n",
              "      <th>8</th>\n",
              "    </tr>\n",
              "  </thead>\n",
              "  <tbody>\n",
              "    <tr>\n",
              "      <th>0</th>\n",
              "      <td>1.284031</td>\n",
              "      <td>-0.099646</td>\n",
              "      <td>0.153889</td>\n",
              "      <td>1.316561</td>\n",
              "      <td>-0.317377</td>\n",
              "      <td>1.285913</td>\n",
              "      <td>0.908045</td>\n",
              "      <td>-0.211185</td>\n",
              "      <td>-0.667422</td>\n",
              "    </tr>\n",
              "    <tr>\n",
              "      <th>1</th>\n",
              "      <td>1.061751</td>\n",
              "      <td>-0.099646</td>\n",
              "      <td>-0.502537</td>\n",
              "      <td>-0.759555</td>\n",
              "      <td>-0.317377</td>\n",
              "      <td>2.368748</td>\n",
              "      <td>0.908045</td>\n",
              "      <td>-0.211185</td>\n",
              "      <td>-0.667422</td>\n",
              "    </tr>\n",
              "    <tr>\n",
              "      <th>2</th>\n",
              "      <td>-0.049648</td>\n",
              "      <td>-0.099646</td>\n",
              "      <td>-0.152614</td>\n",
              "      <td>1.316561</td>\n",
              "      <td>-0.317377</td>\n",
              "      <td>2.170016</td>\n",
              "      <td>0.908045</td>\n",
              "      <td>-0.211185</td>\n",
              "      <td>-0.667422</td>\n",
              "    </tr>\n",
              "    <tr>\n",
              "      <th>3</th>\n",
              "      <td>0.987658</td>\n",
              "      <td>-0.099646</td>\n",
              "      <td>0.191881</td>\n",
              "      <td>1.316561</td>\n",
              "      <td>-0.317377</td>\n",
              "      <td>0.106259</td>\n",
              "      <td>0.908045</td>\n",
              "      <td>-0.211185</td>\n",
              "      <td>-0.667422</td>\n",
              "    </tr>\n",
              "    <tr>\n",
              "      <th>4</th>\n",
              "      <td>0.913565</td>\n",
              "      <td>-0.099646</td>\n",
              "      <td>-0.462831</td>\n",
              "      <td>-0.759555</td>\n",
              "      <td>-0.317377</td>\n",
              "      <td>0.345757</td>\n",
              "      <td>0.908045</td>\n",
              "      <td>1.028502</td>\n",
              "      <td>-0.667422</td>\n",
              "    </tr>\n",
              "  </tbody>\n",
              "</table>\n",
              "</div>"
            ],
            "text/plain": [
              "          0         1         2         3         4         5         6  \\\n",
              "0  1.284031 -0.099646  0.153889  1.316561 -0.317377  1.285913  0.908045   \n",
              "1  1.061751 -0.099646 -0.502537 -0.759555 -0.317377  2.368748  0.908045   \n",
              "2 -0.049648 -0.099646 -0.152614  1.316561 -0.317377  2.170016  0.908045   \n",
              "3  0.987658 -0.099646  0.191881  1.316561 -0.317377  0.106259  0.908045   \n",
              "4  0.913565 -0.099646 -0.462831 -0.759555 -0.317377  0.345757  0.908045   \n",
              "\n",
              "          7         8  \n",
              "0 -0.211185 -0.667422  \n",
              "1 -0.211185 -0.667422  \n",
              "2 -0.211185 -0.667422  \n",
              "3 -0.211185 -0.667422  \n",
              "4  1.028502 -0.667422  "
            ]
          },
          "metadata": {
            "tags": []
          },
          "execution_count": 33
        }
      ]
    },
    {
      "cell_type": "code",
      "metadata": {
        "id": "cnmzntV-TBAA",
        "colab_type": "code",
        "outputId": "309db24b-8f3a-44b7-b089-7cd10122d21e",
        "colab": {
          "base_uri": "https://localhost:8080/",
          "height": 317
        }
      },
      "source": [
        "features = scaled_df.T\n",
        "covariance_matrix = np.cov(features)\n",
        "print(covariance_matrix)"
      ],
      "execution_count": 0,
      "outputs": [
        {
          "output_type": "stream",
          "text": [
            "[[ 1.00018911 -0.02340939  0.12225084 -0.16524635 -0.05298378 -0.02800074\n",
            "   0.47509215 -0.20928629  0.05976003]\n",
            " [-0.02340939  1.00018911 -0.05311731  0.03969448  0.06807765  0.03356131\n",
            "  -0.01923001 -0.02104776 -0.05515034]\n",
            " [ 0.12225084 -0.05311731  1.00018911 -0.07516163 -0.08347895 -0.03668428\n",
            "   0.0323677   0.02431224  0.04168887]\n",
            " [-0.16524635  0.03969448 -0.07516163  1.00018911  0.11972524  0.23880843\n",
            "   0.01000263 -0.02853796 -0.08754109]\n",
            " [-0.05298378  0.06807765 -0.08347895  0.11972524  1.00018911  0.13106352\n",
            "   0.03248815 -0.01581502 -0.0862686 ]\n",
            " [-0.02800074  0.03356131 -0.03668428  0.23880843  0.13106352  1.00018911\n",
            "   0.02415211 -0.06356695 -0.25313825]\n",
            " [ 0.47509215 -0.01923001  0.0323677   0.01000263  0.03248815  0.02415211\n",
            "   1.00018911 -0.13361139  0.03011646]\n",
            " [-0.20928629 -0.02104776  0.02431224 -0.02853796 -0.01581502 -0.06356695\n",
            "  -0.13361139  1.00018911  0.03978978]\n",
            " [ 0.05976003 -0.05515034  0.04168887 -0.08754109 -0.0862686  -0.25313825\n",
            "   0.03011646  0.03978978  1.00018911]]\n"
          ],
          "name": "stdout"
        }
      ]
    },
    {
      "cell_type": "code",
      "metadata": {
        "id": "qlq9yCPITEBw",
        "colab_type": "code",
        "outputId": "0435c9ad-f0bf-44d8-cd22-ef01fdf49a87",
        "colab": {
          "base_uri": "https://localhost:8080/",
          "height": 333
        }
      },
      "source": [
        "eig_vals, eig_vecs = np.linalg.eig(covariance_matrix)\n",
        "#Show the eigenvectors\n",
        "print(\"Eigenvectors \\n%s\" %eig_vecs)"
      ],
      "execution_count": 0,
      "outputs": [
        {
          "output_type": "stream",
          "text": [
            "Eigenvectors \n",
            "[[-0.59328861  0.30470839 -0.72199215 -0.06574288 -0.01049964 -0.12545908\n",
            "  -0.08939637  0.05168034  0.05526162]\n",
            " [ 0.12634227  0.13833526  0.01971907 -0.04736225 -0.56992208 -0.1425314\n",
            "   0.30384967  0.6949201   0.20470469]\n",
            " [-0.23426025 -0.09994831  0.09670908  0.08590479  0.59777934  0.37411602\n",
            "   0.27244594  0.38121414  0.44893902]\n",
            " [ 0.34181808  0.32905685 -0.24515287  0.40168561  0.09784218 -0.14416833\n",
            "   0.6137734  -0.35384825  0.14541927]\n",
            " [ 0.21443496  0.31312291 -0.05709078  0.02012331 -0.28072994  0.5275539\n",
            "  -0.40071494 -0.20453689  0.54108887]\n",
            " [ 0.27678165  0.49017351  0.06252275 -0.73729862  0.33917404 -0.13273173\n",
            "   0.03241977  0.04108714 -0.01440704]\n",
            " [-0.47161409  0.4098711   0.61617566  0.16633238 -0.06110934 -0.34610875\n",
            "  -0.04126774 -0.16973571  0.21956337]\n",
            " [ 0.20856329 -0.37054495 -0.1449469  -0.03136344  0.13805819 -0.61116365\n",
            "  -0.27110947 -0.02511201  0.57488476]\n",
            " [-0.26799228 -0.35515374  0.03217801 -0.50203526 -0.30252703  0.11812878\n",
            "   0.46033924 -0.41342239  0.2463003 ]]\n"
          ],
          "name": "stdout"
        }
      ]
    },
    {
      "cell_type": "code",
      "metadata": {
        "id": "AbJCtlkXTRCO",
        "colab_type": "code",
        "outputId": "192a6a0e-2be1-45a5-954d-2146510fac3a",
        "colab": {
          "base_uri": "https://localhost:8080/",
          "height": 380
        }
      },
      "source": [
        "from sklearn.decomposition import PCA\n",
        "pca = PCA(n_components='mle')\n",
        "pca.fit(scaled_df)\n",
        "plt.plot(pca.explained_variance_ratio_[:10])\n",
        "print(pca.explained_variance_ratio_)"
      ],
      "execution_count": 0,
      "outputs": [
        {
          "output_type": "stream",
          "text": [
            "[0.18430818 0.16612757 0.115087   0.10768096 0.10409909 0.09901122\n",
            " 0.09411485 0.07664365]\n"
          ],
          "name": "stdout"
        },
        {
          "output_type": "display_data",
          "data": {
            "image/png": "[encoded data removed]",
            "text/plain": [
              "<Figure size 576x396 with 1 Axes>"
            ]
          },
          "metadata": {
            "tags": []
          }
        }
      ]
    },
    {
      "cell_type": "code",
      "metadata": {
        "id": "B3JQITOLWJ1v",
        "colab_type": "code",
        "outputId": "ec8ae940-1957-447e-c181-3247f5c5f3d4",
        "colab": {
          "base_uri": "https://localhost:8080/",
          "height": 83
        }
      },
      "source": [
        "components = pd.DataFrame(pca.components_[:4], columns = call_new2.columns)\n",
        "component_1 = components.iloc[0,:]\n",
        "component_1[abs(component_1)>0.3]"
      ],
      "execution_count": 0,
      "outputs": [
        {
          "output_type": "execute_result",
          "data": {
            "text/plain": [
              "age          0.593289\n",
              "housing     -0.341818\n",
              "marital_n    0.471614\n",
              "Name: 0, dtype: float64"
            ]
          },
          "metadata": {
            "tags": []
          },
          "execution_count": 37
        }
      ]
    },
    {
      "cell_type": "code",
      "metadata": {
        "id": "8whIF571WV6r",
        "colab_type": "code",
        "outputId": "d679ddd9-f4cf-47a5-80b3-cf911fc343c7",
        "colab": {
          "base_uri": "https://localhost:8080/",
          "height": 150
        }
      },
      "source": [
        "component_2 = components.iloc[1,:]\n",
        "component_2[abs(component_2)>0.3]"
      ],
      "execution_count": 0,
      "outputs": [
        {
          "output_type": "execute_result",
          "data": {
            "text/plain": [
              "age            0.304708\n",
              "housing        0.329057\n",
              "loan           0.313123\n",
              "duration       0.490174\n",
              "marital_n      0.409871\n",
              "education_n   -0.370545\n",
              "poutcome_n    -0.355154\n",
              "Name: 1, dtype: float64"
            ]
          },
          "metadata": {
            "tags": []
          },
          "execution_count": 38
        }
      ]
    },
    {
      "cell_type": "code",
      "metadata": {
        "id": "wS59F2YbWZy0",
        "colab_type": "code",
        "outputId": "763a49ed-53e1-450c-dc6f-96ee69d6d4a1",
        "colab": {
          "base_uri": "https://localhost:8080/",
          "height": 100
        }
      },
      "source": [
        "component_3 = components.iloc[2,:]\n",
        "component_3[abs(component_3)>0.3]"
      ],
      "execution_count": 0,
      "outputs": [
        {
          "output_type": "execute_result",
          "data": {
            "text/plain": [
              "default      -0.569922\n",
              "balance       0.597779\n",
              "duration      0.339174\n",
              "poutcome_n   -0.302527\n",
              "Name: 2, dtype: float64"
            ]
          },
          "metadata": {
            "tags": []
          },
          "execution_count": 39
        }
      ]
    },
    {
      "cell_type": "markdown",
      "metadata": {
        "id": "yGp6tQVWaZWX",
        "colab_type": "text"
      },
      "source": [
        "# Prediction Model"
      ]
    },
    {
      "cell_type": "code",
      "metadata": {
        "id": "YRxIAkeAaZAN",
        "colab_type": "code",
        "outputId": "19e6c2f5-426c-42cb-b211-f1cc621b2331",
        "colab": {
          "base_uri": "https://localhost:8080/",
          "height": 33
        }
      },
      "source": [
        "len(call)"
      ],
      "execution_count": 0,
      "outputs": [
        {
          "output_type": "execute_result",
          "data": {
            "text/plain": [
              "45211"
            ]
          },
          "metadata": {
            "tags": []
          },
          "execution_count": 41
        }
      ]
    },
    {
      "cell_type": "code",
      "metadata": {
        "id": "bgBsuPoQbDRs",
        "colab_type": "code",
        "colab": {}
      },
      "source": [
        "from sklearn.model_selection import train_test_split\n",
        "\n",
        "predictors = call_new.drop(['Term Deposit'], axis=1)\n",
        "target = call_new[\"Term Deposit\"]\n",
        "x_train, x_val, y_train, y_val = train_test_split(predictors, target, test_size = 0.25, random_state = 0)"
      ],
      "execution_count": 0,
      "outputs": []
    },
    {
      "cell_type": "code",
      "metadata": {
        "id": "hJOcNdgFbgzB",
        "colab_type": "code",
        "outputId": "323426d4-b4c9-4540-d2cd-496caf833feb",
        "colab": {
          "base_uri": "https://localhost:8080/",
          "height": 33
        }
      },
      "source": [
        "from sklearn.naive_bayes import GaussianNB\n",
        "from sklearn.metrics import accuracy_score\n",
        "\n",
        "gaussian = GaussianNB()\n",
        "gaussian.fit(x_train, y_train)\n",
        "y_pred = gaussian.predict(x_val)\n",
        "acc_gaussian = round(accuracy_score(y_pred, y_val) * 100, 2)\n",
        "print(acc_gaussian)"
      ],
      "execution_count": 0,
      "outputs": [
        {
          "output_type": "stream",
          "text": [
            "84.92\n"
          ],
          "name": "stdout"
        }
      ]
    },
    {
      "cell_type": "code",
      "metadata": {
        "id": "642K1eYTbjdh",
        "colab_type": "code",
        "outputId": "3ff23904-24b5-4e8b-b3d8-87e9b12a5a3f",
        "colab": {
          "base_uri": "https://localhost:8080/",
          "height": 67
        }
      },
      "source": [
        "from sklearn.linear_model import LogisticRegression\n",
        "\n",
        "logreg = LogisticRegression()\n",
        "logreg.fit(x_train, y_train)\n",
        "y_pred = logreg.predict(x_val)\n",
        "acc_logreg = round(accuracy_score(y_pred, y_val) * 100, 2)\n",
        "print(acc_logreg)"
      ],
      "execution_count": 0,
      "outputs": [
        {
          "output_type": "stream",
          "text": [
            "/usr/local/lib/python3.6/dist-packages/sklearn/linear_model/logistic.py:433: FutureWarning: Default solver will be changed to 'lbfgs' in 0.22. Specify a solver to silence this warning.\n",
            "  FutureWarning)\n"
          ],
          "name": "stderr"
        },
        {
          "output_type": "stream",
          "text": [
            "89.65\n"
          ],
          "name": "stdout"
        }
      ]
    },
    {
      "cell_type": "code",
      "metadata": {
        "id": "KpHF8GsDcstU",
        "colab_type": "code",
        "outputId": "5b34283d-fcfe-4595-d7a4-935c9456a38d",
        "colab": {
          "base_uri": "https://localhost:8080/",
          "height": 33
        }
      },
      "source": [
        "from sklearn.tree import DecisionTreeClassifier\n",
        "\n",
        "decisiontree = DecisionTreeClassifier()\n",
        "decisiontree.fit(x_train, y_train)\n",
        "y_pred = decisiontree.predict(x_val)\n",
        "acc_decisiontree = round(accuracy_score(y_pred, y_val) * 100, 2)\n",
        "print(acc_decisiontree)"
      ],
      "execution_count": 0,
      "outputs": [
        {
          "output_type": "stream",
          "text": [
            "87.07\n"
          ],
          "name": "stdout"
        }
      ]
    },
    {
      "cell_type": "code",
      "metadata": {
        "id": "7EzbD94scu_m",
        "colab_type": "code",
        "outputId": "9a109438-3461-4aa6-cb6b-3cc7bd441c7a",
        "colab": {
          "base_uri": "https://localhost:8080/",
          "height": 67
        }
      },
      "source": [
        "from sklearn.ensemble import RandomForestClassifier\n",
        "\n",
        "randomforest = RandomForestClassifier()\n",
        "randomforest.fit(x_train, y_train)\n",
        "y_pred = randomforest.predict(x_val)\n",
        "acc_randomforest = round(accuracy_score(y_pred, y_val) * 100, 2)\n",
        "print(acc_randomforest)"
      ],
      "execution_count": 0,
      "outputs": [
        {
          "output_type": "stream",
          "text": [
            "/usr/local/lib/python3.6/dist-packages/sklearn/ensemble/forest.py:246: FutureWarning: The default value of n_estimators will change from 10 in version 0.20 to 100 in 0.22.\n",
            "  \"10 in version 0.20 to 100 in 0.22.\", FutureWarning)\n"
          ],
          "name": "stderr"
        },
        {
          "output_type": "stream",
          "text": [
            "89.88\n"
          ],
          "name": "stdout"
        }
      ]
    },
    {
      "cell_type": "code",
      "metadata": {
        "id": "cdc5YrihcxIs",
        "colab_type": "code",
        "outputId": "1c8d8845-5c69-488b-9f01-907a152c36d0",
        "colab": {
          "base_uri": "https://localhost:8080/",
          "height": 33
        }
      },
      "source": [
        "from sklearn.neighbors import KNeighborsClassifier\n",
        "\n",
        "knn = KNeighborsClassifier()\n",
        "knn.fit(x_train, y_train)\n",
        "y_pred = knn.predict(x_val)\n",
        "acc_knn = round(accuracy_score(y_pred, y_val) * 100, 2)\n",
        "print(acc_knn)"
      ],
      "execution_count": 0,
      "outputs": [
        {
          "output_type": "stream",
          "text": [
            "87.74\n"
          ],
          "name": "stdout"
        }
      ]
    },
    {
      "cell_type": "markdown",
      "metadata": {
        "id": "0UtXz-SQS6f_",
        "colab_type": "text"
      },
      "source": [
        "# Conclusion"
      ]
    },
    {
      "cell_type": "markdown",
      "metadata": {
        "id": "_18klOwq4J8i",
        "colab_type": "text"
      },
      "source": [
        "**1. Customer Features (Who Subscribed TD After the Call)**\n",
        "    - Elder Group\n",
        "    - Married Group\n",
        "    - Longer Relationship\n",
        "    - High Balance\n",
        "    - No Default History\n",
        "    \n",
        "**2. Recommended Prediction Model**\n",
        "    - Random Forest: 89.88% accuracy\n",
        "    - Logistic Regression: 89.65% accuracy\n",
        "    \n",
        "**3. Suggestions on Improve Call Efficiency**\n",
        "    - Organized theme campaign for customer with features listed above\n",
        "    - Improve sales script for specifc groups\n",
        "    - Expand the database, if its the bank's current client then include the transaction history\n",
        "\n",
        "**4. Problem/Next Step**\n",
        "    - How to deal with a data set with lots of categorical data\n",
        "    - How to apply the model to potential customers"
      ]
    }
  ]
}